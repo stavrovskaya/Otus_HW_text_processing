{
 "cells": [
  {
   "cell_type": "code",
   "execution_count": 1,
   "id": "64710adf-70a4-441e-a108-89ffd84f5dd2",
   "metadata": {},
   "outputs": [],
   "source": [
    "import warnings\n",
    "warnings.filterwarnings(\"ignore\")"
   ]
  },
  {
   "cell_type": "code",
   "execution_count": 4,
   "id": "090e94cc-013b-4db0-b85a-b1a053d88ddc",
   "metadata": {},
   "outputs": [
    {
     "name": "stdout",
     "output_type": "stream",
     "text": [
      "Requirement already satisfied: fake_useragent in c:\\users\\asus\\anaconda3\\lib\\site-packages (1.5.1)\n"
     ]
    }
   ],
   "source": [
    "!pip install fake_useragent"
   ]
  },
  {
   "cell_type": "code",
   "execution_count": 2,
   "id": "bc713247-605d-4413-9323-e85a37453591",
   "metadata": {},
   "outputs": [],
   "source": [
    "import requests      # Библиотека для отправки запросов\n",
    "import numpy as np   # Библиотека для матриц, векторов и линала\n",
    "import pandas as pd  # Библиотека для табличек\n",
    "import time          # Библиотека для времени\n",
    "from fake_useragent import UserAgent\n",
    "from bs4 import BeautifulSoup\n",
    "import re"
   ]
  },
  {
   "cell_type": "code",
   "execution_count": 3,
   "id": "cb8957b7-f4f8-4b76-8604-4898b4a013e7",
   "metadata": {},
   "outputs": [],
   "source": [
    "page_link = 'https://www.ticketland.ru/spectacle/'\n",
    "site_link = 'https://www.ticketland.ru'"
   ]
  },
  {
   "cell_type": "code",
   "execution_count": 4,
   "id": "f06e1b4d-fec2-4a95-a720-dc02007540f5",
   "metadata": {},
   "outputs": [],
   "source": [
    "def get_page_links(page_num):\n",
    "    result = []\n",
    "    response = requests.get(page_link + f'page-{page_num}/', headers={'User-Agent': UserAgent().chrome})\n",
    "    if not response.ok:\n",
    "        # если сервер нам отказал, вернем пустой лист для текущей страницы\n",
    "        return []\n",
    "    \n",
    "    html = response.content\n",
    "    soup = BeautifulSoup(html, 'html.parser')\n",
    "    objs = soup.findAll('div', attrs = {'class':'card-search__img'})\n",
    "\n",
    "    for obj in objs:    \n",
    "        link = site_link + obj.find('a').attrs['href']\n",
    "        result.append(link)\n",
    "    return result"
   ]
  },
  {
   "cell_type": "code",
   "execution_count": 5,
   "id": "c507cffd-75a3-4451-a564-a1e973534ce2",
   "metadata": {},
   "outputs": [
    {
     "data": {
      "text/plain": [
       "['https://www.ticketland.ru/koncertnye-zaly/moskovskiy-dvorec-molodezhi/nichego-ne-boysya-ya-s-toboy/',\n",
       " 'https://www.ticketland.ru/teatry/teatr-maska/mamma-mimo-ili-myuzikl-poshel-ne-tak/',\n",
       " 'https://www.ticketland.ru/doma-kultury/dk-im-zueva/idealnyy-muzh/',\n",
       " 'https://www.ticketland.ru/teatry/teatr-operetty/anna-karenina/',\n",
       " 'https://www.ticketland.ru/teatry/teatr-operetty/graf-orlov/',\n",
       " 'https://www.ticketland.ru/teatry/teatrium-na-serpukhovke-p-r-terezy-durovoy/dva-muzha-po-cene-odnogo/',\n",
       " 'https://www.ticketland.ru/teatry/teatr-ally-dukhovoy-todes/balet-ally-dukhovoy-todes-tancuem-lyubov/',\n",
       " 'https://www.ticketland.ru/teatry/teatrium-na-serpukhovke-p-r-terezy-durovoy/tyoscha-s-syurprizom/',\n",
       " 'https://www.ticketland.ru/teatry/teatr-komedii/zhenikhi-po-obyavleniyu/',\n",
       " 'https://www.ticketland.ru/teatry/teatr-komedii-na-dostoevskoj/sobache-serdce-teatr-komedii/',\n",
       " 'https://www.ticketland.ru/teatry/teatr-komedii/pigmalion-teatr-komedii/',\n",
       " 'https://www.ticketland.ru/teatry/teatr-myuzikla/prestuplenie-i-nakazanie/',\n",
       " 'https://www.ticketland.ru/koncertnye-zaly/moskovskiy-dvorec-molodezhi/pervoe-svidanie/',\n",
       " 'https://www.ticketland.ru/teatry/teatr-komedii-na-dostoevskoj/zhenitba/',\n",
       " 'https://www.ticketland.ru/teatry/centralnyy-dom-aktera/drug-na-chas-komediya/',\n",
       " 'https://www.ticketland.ru/teatry/teatr-im-vl-mayakovskogo/zhenitba/',\n",
       " 'https://www.ticketland.ru/teatry/centralnyy-dom-aktera/komediya-vigre/',\n",
       " 'https://www.ticketland.ru/koncertnye-zaly/koncertnyy-zal-akademicheskiy/sirena-i-viktoriya/',\n",
       " 'https://www.ticketland.ru/teatry/teatr-myuzikla/spektakl-revers/',\n",
       " 'https://www.ticketland.ru/teatry/teatr-im-vl-mayakovskogo/eynshtein-i-marjarita/']"
      ]
     },
     "execution_count": 5,
     "metadata": {},
     "output_type": "execute_result"
    }
   ],
   "source": [
    "get_page_links(1)"
   ]
  },
  {
   "cell_type": "code",
   "execution_count": 6,
   "id": "4d64f6d8-34e2-4a55-914d-f409399ea99b",
   "metadata": {},
   "outputs": [],
   "source": [
    "def get_rating_and_text(sp_page_link):\n",
    "    response = requests.get(sp_page_link, headers={'User-Agent': UserAgent().chrome})\n",
    "    if not response.ok:\n",
    "        # если сервер нам отказал, вернем пустой лист для текущей страницы\n",
    "        return {}\n",
    "    html = response.content\n",
    "    soup = BeautifulSoup(html, 'html.parser')\n",
    "    \n",
    "    rating = 0\n",
    "    rating_span = soup.find('span', attrs = {'class':'text-medium'})\n",
    "    if rating_span:\n",
    "        rating = float(rating_span.text)\n",
    "    else:\n",
    "        return {}\n",
    "    \n",
    "    text_div = soup.find(lambda tag: tag.name == 'div' and tag.get('class') == ['mts-text'])\n",
    "    \n",
    "    html_pattern = re.compile('<.*?>')\n",
    "    clean_text = re.sub(html_pattern, ' ', str(text_div))\n",
    "    erid_pattern = re.compile('\\s+erid: \\w+')\n",
    "    clean_text = re.sub(erid_pattern, '', clean_text)\n",
    "    clean_text = clean_text.strip()\n",
    "\n",
    "    return {'rating':rating, 'description':clean_text}"
   ]
  },
  {
   "cell_type": "code",
   "execution_count": 7,
   "id": "a9282f67-2566-4e11-8527-4bb591820041",
   "metadata": {},
   "outputs": [
    {
     "name": "stdout",
     "output_type": "stream",
     "text": [
      "page num= 0\n",
      "page num= 1\n",
      "page num= 2\n",
      "page num= 3\n",
      "page num= 4\n",
      "AHTUNG! parsing once again: https://www.ticketland.ru/drugoe/zerkalo-karlosa-santosa/zerkalo-karlosa-santosa/\n",
      "AHTUNG! parsing once again: https://www.ticketland.ru/drugoe/zerkalo-karlosa-santosa/zerkalo-karlosa-santosa/\n",
      "AHTUNG! parsing once again: https://www.ticketland.ru/drugoe/zerkalo-karlosa-santosa/zerkalo-karlosa-santosa/\n",
      "AHTUNG! parsing once again: https://www.ticketland.ru/teatry/teatr-na-melnikova/vse-bulety-prodany/\n",
      "AHTUNG! parsing once again: https://www.ticketland.ru/teatry/teatr-na-melnikova/vse-bulety-prodany/\n",
      "AHTUNG! parsing once again: https://www.ticketland.ru/teatry/teatr-na-melnikova/vse-bulety-prodany/\n",
      "page num= 5\n",
      "page num= 6\n",
      "page num= 7\n",
      "AHTUNG! parsing once again: https://www.ticketland.ru/teatry/teatr-crave/taboo/\n",
      "AHTUNG! parsing once again: https://www.ticketland.ru/teatry/teatr-crave/taboo/\n",
      "AHTUNG! parsing once again: https://www.ticketland.ru/teatry/teatr-crave/taboo/\n",
      "page num= 8\n",
      "page num= 9\n",
      "page num= 10\n",
      "page num= 11\n",
      "page num= 12\n",
      "page num= 13\n",
      "AHTUNG! parsing once again: https://www.ticketland.ru/doma-kultury/dk-im-zueva/yabloko-razdora/\n",
      "AHTUNG! parsing once again: https://www.ticketland.ru/doma-kultury/dk-im-zueva/yabloko-razdora/\n",
      "AHTUNG! parsing once again: https://www.ticketland.ru/doma-kultury/dk-im-zueva/yabloko-razdora/\n",
      "AHTUNG! parsing once again: https://www.ticketland.ru/drugoe/gostinica-hilton-moscow-leningradskaya/spektakl-ekskursiya-zabludshie-v-hilton-leningradskaya/\n",
      "AHTUNG! parsing once again: https://www.ticketland.ru/drugoe/gostinica-hilton-moscow-leningradskaya/spektakl-ekskursiya-zabludshie-v-hilton-leningradskaya/\n",
      "AHTUNG! parsing once again: https://www.ticketland.ru/drugoe/gostinica-hilton-moscow-leningradskaya/spektakl-ekskursiya-zabludshie-v-hilton-leningradskaya/\n",
      "page num= 14\n",
      "page num= 15\n",
      "page num= 16\n",
      "page num= 17\n",
      "page num= 18\n",
      "page num= 19\n",
      "page num= 20\n",
      "page num= 21\n",
      "AHTUNG! parsing once again: https://www.ticketland.ru/teatry/immersivnyy-teatr-morfeus/morfeus-sudnyy-den/\n",
      "AHTUNG! parsing once again: https://www.ticketland.ru/teatry/immersivnyy-teatr-morfeus/morfeus-sudnyy-den/\n",
      "AHTUNG! parsing once again: https://www.ticketland.ru/teatry/immersivnyy-teatr-morfeus/morfeus-sudnyy-den/\n",
      "AHTUNG! parsing once again: https://www.ticketland.ru/cirki/cirk-chudes-kashirka-tc-moskvoreche/korol-lev-kashirka/\n",
      "AHTUNG! parsing once again: https://www.ticketland.ru/cirki/cirk-chudes-kashirka-tc-moskvoreche/korol-lev-kashirka/\n",
      "AHTUNG! parsing once again: https://www.ticketland.ru/cirki/cirk-chudes-kashirka-tc-moskvoreche/korol-lev-kashirka/\n",
      "page num= 22\n",
      "page num= 23\n",
      "page num= 24\n",
      "page num= 25\n",
      "page num= 26\n",
      "AHTUNG! parsing once again: https://www.ticketland.ru/drugoe/kozlov-club-unplugged/ucheniki-sashi-magerovoy/\n",
      "AHTUNG! parsing once again: https://www.ticketland.ru/drugoe/kozlov-club-unplugged/ucheniki-sashi-magerovoy/\n",
      "AHTUNG! parsing once again: https://www.ticketland.ru/drugoe/kozlov-club-unplugged/ucheniki-sashi-magerovoy/\n",
      "page num= 27\n",
      "page num= 28\n",
      "AHTUNG! parsing once again: https://www.ticketland.ru/teatry/teatr-im-nvgogolya/shinel-spektakl-gogolya/\n",
      "AHTUNG! parsing once again: https://www.ticketland.ru/teatry/teatr-im-nvgogolya/shinel-spektakl-gogolya/\n",
      "AHTUNG! parsing once again: https://www.ticketland.ru/teatry/teatr-im-nvgogolya/shinel-spektakl-gogolya/\n",
      "page num= 29\n",
      "page num= 30\n",
      "page num= 31\n",
      "page num= 32\n",
      "AHTUNG! parsing once again: https://www.ticketland.ru/drugoe/bar-abbey-players/ogo/\n",
      "AHTUNG! parsing once again: https://www.ticketland.ru/drugoe/bar-abbey-players/ogo/\n",
      "AHTUNG! parsing once again: https://www.ticketland.ru/drugoe/bar-abbey-players/ogo/\n",
      "page num= 33\n",
      "page num= 34\n",
      "page num= 35\n",
      "page num= 36\n",
      "page num= 37\n",
      "page num= 38\n",
      "page num= 39\n",
      "page num= 40\n",
      "page num= 41\n",
      "page num= 42\n",
      "page num= 43\n",
      "AHTUNG! parsing once again: https://www.ticketland.ru/teatry/teatralnyy-dom-apollinariya/traktirschica-spektakl/\n",
      "AHTUNG! parsing once again: https://www.ticketland.ru/teatry/teatralnyy-dom-apollinariya/traktirschica-spektakl/\n",
      "AHTUNG! parsing once again: https://www.ticketland.ru/teatry/teatralnyy-dom-apollinariya/traktirschica-spektakl/\n",
      "page num= 44\n",
      "page num= 45\n",
      "page num= 46\n",
      "page num= 47\n",
      "AHTUNG! parsing once again: https://www.ticketland.ru/teatry/immersivnyy-teatr-morfeus/morfeus-do-svadby-dozhivyot/\n",
      "AHTUNG! parsing once again: https://www.ticketland.ru/teatry/immersivnyy-teatr-morfeus/morfeus-do-svadby-dozhivyot/\n",
      "AHTUNG! parsing once again: https://www.ticketland.ru/teatry/immersivnyy-teatr-morfeus/morfeus-do-svadby-dozhivyot/\n",
      "page num= 48\n",
      "page num= 49\n",
      "AHTUNG! parsing once again: https://www.ticketland.ru/teatry/immersivnyy-teatr-morfeus/morfeus-22-07/\n",
      "AHTUNG! parsing once again: https://www.ticketland.ru/teatry/immersivnyy-teatr-morfeus/morfeus-22-07/\n",
      "AHTUNG! parsing once again: https://www.ticketland.ru/teatry/immersivnyy-teatr-morfeus/morfeus-22-07/\n",
      "AHTUNG! parsing once again: https://www.ticketland.ru/teatry/immersivnyy-teatr-morfeus/morfeus-vdokh/\n",
      "AHTUNG! parsing once again: https://www.ticketland.ru/teatry/immersivnyy-teatr-morfeus/morfeus-vdokh/\n",
      "AHTUNG! parsing once again: https://www.ticketland.ru/teatry/immersivnyy-teatr-morfeus/morfeus-vdokh/\n"
     ]
    }
   ],
   "source": [
    "final_df = pd.DataFrame(columns=['rating', 'description'])\n",
    "\n",
    "for page_number in range(50):\n",
    "    print(f'page num= {page_number}')\n",
    "    # собрали хрефы с текущей страницы\n",
    "    sp_links = get_page_links(page_number)\n",
    "    for sp_link in sp_links:\n",
    "        # иногда с первого раза страничка не парсится\n",
    "        for i in range(3):\n",
    "            try:\n",
    "                # пытаемся собрать спектаклю немного даты\n",
    "                data_row = get_rating_and_text(sp_link)\n",
    "                # и закидываем её в таблицу\n",
    "                if data_row:\n",
    "                    final_df = pd.concat([final_df, pd.DataFrame([data_row])], ignore_index=True)\n",
    "                # если всё получилось - выходим из внутреннего цикла\n",
    "                break\n",
    "            except:\n",
    "                # Иначе, пробуем еще несколько раз, пока не закончатся попытки\n",
    "                print('AHTUNG! parsing once again:', sp_link)\n",
    "                continue\n",
    "            time.sleep(0.3)"
   ]
  },
  {
   "cell_type": "code",
   "execution_count": 10,
   "id": "180141b7-96f0-4d9f-a815-c9f93d33761c",
   "metadata": {},
   "outputs": [
    {
     "data": {
      "text/plain": [
       "(850, 2)"
      ]
     },
     "execution_count": 10,
     "metadata": {},
     "output_type": "execute_result"
    }
   ],
   "source": [
    "final_df.shape "
   ]
  },
  {
   "cell_type": "code",
   "execution_count": 11,
   "id": "3748b52d-2723-4ff8-99e5-9b4c32ed5004",
   "metadata": {},
   "outputs": [
    {
     "data": {
      "text/html": [
       "<div>\n",
       "<style scoped>\n",
       "    .dataframe tbody tr th:only-of-type {\n",
       "        vertical-align: middle;\n",
       "    }\n",
       "\n",
       "    .dataframe tbody tr th {\n",
       "        vertical-align: top;\n",
       "    }\n",
       "\n",
       "    .dataframe thead th {\n",
       "        text-align: right;\n",
       "    }\n",
       "</style>\n",
       "<table border=\"1\" class=\"dataframe\">\n",
       "  <thead>\n",
       "    <tr style=\"text-align: right;\">\n",
       "      <th></th>\n",
       "      <th>rating</th>\n",
       "      <th>description</th>\n",
       "    </tr>\n",
       "  </thead>\n",
       "  <tbody>\n",
       "    <tr>\n",
       "      <th>0</th>\n",
       "      <td>9.6</td>\n",
       "      <td>Мюзикл идет с антрактом.        Забронируйте с...</td>\n",
       "    </tr>\n",
       "    <tr>\n",
       "      <th>1</th>\n",
       "      <td>9.7</td>\n",
       "      <td>Премьера комедийного мюзикла от продюсеров Mam...</td>\n",
       "    </tr>\n",
       "    <tr>\n",
       "      <th>2</th>\n",
       "      <td>8.7</td>\n",
       "      <td>«Идеальный муж» - комедия Оскара Уайльда с лов...</td>\n",
       "    </tr>\n",
       "    <tr>\n",
       "      <th>3</th>\n",
       "      <td>9.6</td>\n",
       "      <td>«Анна Каренина» — мировой шедевр на одном дыха...</td>\n",
       "    </tr>\n",
       "    <tr>\n",
       "      <th>4</th>\n",
       "      <td>9.1</td>\n",
       "      <td>Мюзикл «Граф Орлов» — Театральный блокбастер! ...</td>\n",
       "    </tr>\n",
       "  </tbody>\n",
       "</table>\n",
       "</div>"
      ],
      "text/plain": [
       "   rating                                        description\n",
       "0     9.6  Мюзикл идет с антрактом.        Забронируйте с...\n",
       "1     9.7  Премьера комедийного мюзикла от продюсеров Mam...\n",
       "2     8.7  «Идеальный муж» - комедия Оскара Уайльда с лов...\n",
       "3     9.6  «Анна Каренина» — мировой шедевр на одном дыха...\n",
       "4     9.1  Мюзикл «Граф Орлов» — Театральный блокбастер! ..."
      ]
     },
     "execution_count": 11,
     "metadata": {},
     "output_type": "execute_result"
    }
   ],
   "source": [
    "final_df.head()"
   ]
  },
  {
   "cell_type": "code",
   "execution_count": 38,
   "id": "f7a02629-169f-46e6-b84d-af48e2886caa",
   "metadata": {},
   "outputs": [],
   "source": [
    "final_df.to_csv('spectacle.csv', index = False)"
   ]
  },
  {
   "cell_type": "code",
   "execution_count": 39,
   "id": "1c725fd2-fcae-4a41-9624-cc1c29c8cfae",
   "metadata": {},
   "outputs": [],
   "source": [
    "data = pd.read_csv('spectacle.csv')"
   ]
  },
  {
   "cell_type": "code",
   "execution_count": 40,
   "id": "2d9277b5-a934-4043-acec-aad3f93ce4c5",
   "metadata": {},
   "outputs": [
    {
     "data": {
      "text/html": [
       "<div>\n",
       "<style scoped>\n",
       "    .dataframe tbody tr th:only-of-type {\n",
       "        vertical-align: middle;\n",
       "    }\n",
       "\n",
       "    .dataframe tbody tr th {\n",
       "        vertical-align: top;\n",
       "    }\n",
       "\n",
       "    .dataframe thead th {\n",
       "        text-align: right;\n",
       "    }\n",
       "</style>\n",
       "<table border=\"1\" class=\"dataframe\">\n",
       "  <thead>\n",
       "    <tr style=\"text-align: right;\">\n",
       "      <th></th>\n",
       "      <th>rating</th>\n",
       "      <th>description</th>\n",
       "    </tr>\n",
       "  </thead>\n",
       "  <tbody>\n",
       "    <tr>\n",
       "      <th>0</th>\n",
       "      <td>9.6</td>\n",
       "      <td>Мюзикл идет с антрактом.        Забронируйте с...</td>\n",
       "    </tr>\n",
       "    <tr>\n",
       "      <th>1</th>\n",
       "      <td>9.7</td>\n",
       "      <td>Премьера комедийного мюзикла от продюсеров Mam...</td>\n",
       "    </tr>\n",
       "    <tr>\n",
       "      <th>2</th>\n",
       "      <td>8.7</td>\n",
       "      <td>«Идеальный муж» - комедия Оскара Уайльда с лов...</td>\n",
       "    </tr>\n",
       "    <tr>\n",
       "      <th>3</th>\n",
       "      <td>9.6</td>\n",
       "      <td>«Анна Каренина» — мировой шедевр на одном дыха...</td>\n",
       "    </tr>\n",
       "    <tr>\n",
       "      <th>4</th>\n",
       "      <td>9.1</td>\n",
       "      <td>Мюзикл «Граф Орлов» — Театральный блокбастер! ...</td>\n",
       "    </tr>\n",
       "  </tbody>\n",
       "</table>\n",
       "</div>"
      ],
      "text/plain": [
       "   rating                                        description\n",
       "0     9.6  Мюзикл идет с антрактом.        Забронируйте с...\n",
       "1     9.7  Премьера комедийного мюзикла от продюсеров Mam...\n",
       "2     8.7  «Идеальный муж» - комедия Оскара Уайльда с лов...\n",
       "3     9.6  «Анна Каренина» — мировой шедевр на одном дыха...\n",
       "4     9.1  Мюзикл «Граф Орлов» — Театральный блокбастер! ..."
      ]
     },
     "execution_count": 40,
     "metadata": {},
     "output_type": "execute_result"
    }
   ],
   "source": [
    "data.head()"
   ]
  },
  {
   "cell_type": "code",
   "execution_count": null,
   "id": "e0e93482-6819-4ae8-ba56-902cbc5a35e4",
   "metadata": {},
   "outputs": [],
   "source": []
  },
  {
   "cell_type": "code",
   "execution_count": null,
   "id": "4076f2d9-c817-4fab-9521-d71b8254f43c",
   "metadata": {},
   "outputs": [],
   "source": []
  }
 ],
 "metadata": {
  "kernelspec": {
   "display_name": "Python 3 (ipykernel)",
   "language": "python",
   "name": "python3"
  },
  "language_info": {
   "codemirror_mode": {
    "name": "ipython",
    "version": 3
   },
   "file_extension": ".py",
   "mimetype": "text/x-python",
   "name": "python",
   "nbconvert_exporter": "python",
   "pygments_lexer": "ipython3",
   "version": "3.11.7"
  }
 },
 "nbformat": 4,
 "nbformat_minor": 5
}
