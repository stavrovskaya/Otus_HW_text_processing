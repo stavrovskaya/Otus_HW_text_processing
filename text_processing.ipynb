{
  "nbformat": 4,
  "nbformat_minor": 0,
  "metadata": {
    "colab": {
      "provenance": []
    },
    "kernelspec": {
      "name": "python3",
      "display_name": "Python 3"
    },
    "language_info": {
      "name": "python"
    },
    "widgets": {
      "application/vnd.jupyter.widget-state+json": {
        "81d69ddf8942427a9610dccdd3ba91cc": {
          "model_module": "@jupyter-widgets/controls",
          "model_name": "HBoxModel",
          "model_module_version": "1.5.0",
          "state": {
            "_dom_classes": [],
            "_model_module": "@jupyter-widgets/controls",
            "_model_module_version": "1.5.0",
            "_model_name": "HBoxModel",
            "_view_count": null,
            "_view_module": "@jupyter-widgets/controls",
            "_view_module_version": "1.5.0",
            "_view_name": "HBoxView",
            "box_style": "",
            "children": [
              "IPY_MODEL_9ce7567c71194e31aeedacfbf9857c1d",
              "IPY_MODEL_4b02f321e58547e4a427d3341360509c",
              "IPY_MODEL_eaf8cb7f0ee945969d644f9166eda02a"
            ],
            "layout": "IPY_MODEL_d2d71ae067084636a6732f7b654ca67a"
          }
        },
        "9ce7567c71194e31aeedacfbf9857c1d": {
          "model_module": "@jupyter-widgets/controls",
          "model_name": "HTMLModel",
          "model_module_version": "1.5.0",
          "state": {
            "_dom_classes": [],
            "_model_module": "@jupyter-widgets/controls",
            "_model_module_version": "1.5.0",
            "_model_name": "HTMLModel",
            "_view_count": null,
            "_view_module": "@jupyter-widgets/controls",
            "_view_module_version": "1.5.0",
            "_view_name": "HTMLView",
            "description": "",
            "description_tooltip": null,
            "layout": "IPY_MODEL_acd09dc40fd544628b79e84d2e587d8b",
            "placeholder": "​",
            "style": "IPY_MODEL_078b71d27ac04791b192c5ac23c470ee",
            "value": "100%"
          }
        },
        "4b02f321e58547e4a427d3341360509c": {
          "model_module": "@jupyter-widgets/controls",
          "model_name": "FloatProgressModel",
          "model_module_version": "1.5.0",
          "state": {
            "_dom_classes": [],
            "_model_module": "@jupyter-widgets/controls",
            "_model_module_version": "1.5.0",
            "_model_name": "FloatProgressModel",
            "_view_count": null,
            "_view_module": "@jupyter-widgets/controls",
            "_view_module_version": "1.5.0",
            "_view_name": "ProgressView",
            "bar_style": "success",
            "description": "",
            "description_tooltip": null,
            "layout": "IPY_MODEL_b4a4933d3bb44b4eb0cf67129cc3b043",
            "max": 850,
            "min": 0,
            "orientation": "horizontal",
            "style": "IPY_MODEL_941ce4d5176c42f49d99367a9e3a8fab",
            "value": 850
          }
        },
        "eaf8cb7f0ee945969d644f9166eda02a": {
          "model_module": "@jupyter-widgets/controls",
          "model_name": "HTMLModel",
          "model_module_version": "1.5.0",
          "state": {
            "_dom_classes": [],
            "_model_module": "@jupyter-widgets/controls",
            "_model_module_version": "1.5.0",
            "_model_name": "HTMLModel",
            "_view_count": null,
            "_view_module": "@jupyter-widgets/controls",
            "_view_module_version": "1.5.0",
            "_view_name": "HTMLView",
            "description": "",
            "description_tooltip": null,
            "layout": "IPY_MODEL_c41973252118468da46558f945b5f970",
            "placeholder": "​",
            "style": "IPY_MODEL_e327445f46ca4f3dae305ad5dae149bc",
            "value": " 850/850 [00:39&lt;00:00, 41.07it/s]"
          }
        },
        "d2d71ae067084636a6732f7b654ca67a": {
          "model_module": "@jupyter-widgets/base",
          "model_name": "LayoutModel",
          "model_module_version": "1.2.0",
          "state": {
            "_model_module": "@jupyter-widgets/base",
            "_model_module_version": "1.2.0",
            "_model_name": "LayoutModel",
            "_view_count": null,
            "_view_module": "@jupyter-widgets/base",
            "_view_module_version": "1.2.0",
            "_view_name": "LayoutView",
            "align_content": null,
            "align_items": null,
            "align_self": null,
            "border": null,
            "bottom": null,
            "display": null,
            "flex": null,
            "flex_flow": null,
            "grid_area": null,
            "grid_auto_columns": null,
            "grid_auto_flow": null,
            "grid_auto_rows": null,
            "grid_column": null,
            "grid_gap": null,
            "grid_row": null,
            "grid_template_areas": null,
            "grid_template_columns": null,
            "grid_template_rows": null,
            "height": null,
            "justify_content": null,
            "justify_items": null,
            "left": null,
            "margin": null,
            "max_height": null,
            "max_width": null,
            "min_height": null,
            "min_width": null,
            "object_fit": null,
            "object_position": null,
            "order": null,
            "overflow": null,
            "overflow_x": null,
            "overflow_y": null,
            "padding": null,
            "right": null,
            "top": null,
            "visibility": null,
            "width": null
          }
        },
        "acd09dc40fd544628b79e84d2e587d8b": {
          "model_module": "@jupyter-widgets/base",
          "model_name": "LayoutModel",
          "model_module_version": "1.2.0",
          "state": {
            "_model_module": "@jupyter-widgets/base",
            "_model_module_version": "1.2.0",
            "_model_name": "LayoutModel",
            "_view_count": null,
            "_view_module": "@jupyter-widgets/base",
            "_view_module_version": "1.2.0",
            "_view_name": "LayoutView",
            "align_content": null,
            "align_items": null,
            "align_self": null,
            "border": null,
            "bottom": null,
            "display": null,
            "flex": null,
            "flex_flow": null,
            "grid_area": null,
            "grid_auto_columns": null,
            "grid_auto_flow": null,
            "grid_auto_rows": null,
            "grid_column": null,
            "grid_gap": null,
            "grid_row": null,
            "grid_template_areas": null,
            "grid_template_columns": null,
            "grid_template_rows": null,
            "height": null,
            "justify_content": null,
            "justify_items": null,
            "left": null,
            "margin": null,
            "max_height": null,
            "max_width": null,
            "min_height": null,
            "min_width": null,
            "object_fit": null,
            "object_position": null,
            "order": null,
            "overflow": null,
            "overflow_x": null,
            "overflow_y": null,
            "padding": null,
            "right": null,
            "top": null,
            "visibility": null,
            "width": null
          }
        },
        "078b71d27ac04791b192c5ac23c470ee": {
          "model_module": "@jupyter-widgets/controls",
          "model_name": "DescriptionStyleModel",
          "model_module_version": "1.5.0",
          "state": {
            "_model_module": "@jupyter-widgets/controls",
            "_model_module_version": "1.5.0",
            "_model_name": "DescriptionStyleModel",
            "_view_count": null,
            "_view_module": "@jupyter-widgets/base",
            "_view_module_version": "1.2.0",
            "_view_name": "StyleView",
            "description_width": ""
          }
        },
        "b4a4933d3bb44b4eb0cf67129cc3b043": {
          "model_module": "@jupyter-widgets/base",
          "model_name": "LayoutModel",
          "model_module_version": "1.2.0",
          "state": {
            "_model_module": "@jupyter-widgets/base",
            "_model_module_version": "1.2.0",
            "_model_name": "LayoutModel",
            "_view_count": null,
            "_view_module": "@jupyter-widgets/base",
            "_view_module_version": "1.2.0",
            "_view_name": "LayoutView",
            "align_content": null,
            "align_items": null,
            "align_self": null,
            "border": null,
            "bottom": null,
            "display": null,
            "flex": null,
            "flex_flow": null,
            "grid_area": null,
            "grid_auto_columns": null,
            "grid_auto_flow": null,
            "grid_auto_rows": null,
            "grid_column": null,
            "grid_gap": null,
            "grid_row": null,
            "grid_template_areas": null,
            "grid_template_columns": null,
            "grid_template_rows": null,
            "height": null,
            "justify_content": null,
            "justify_items": null,
            "left": null,
            "margin": null,
            "max_height": null,
            "max_width": null,
            "min_height": null,
            "min_width": null,
            "object_fit": null,
            "object_position": null,
            "order": null,
            "overflow": null,
            "overflow_x": null,
            "overflow_y": null,
            "padding": null,
            "right": null,
            "top": null,
            "visibility": null,
            "width": null
          }
        },
        "941ce4d5176c42f49d99367a9e3a8fab": {
          "model_module": "@jupyter-widgets/controls",
          "model_name": "ProgressStyleModel",
          "model_module_version": "1.5.0",
          "state": {
            "_model_module": "@jupyter-widgets/controls",
            "_model_module_version": "1.5.0",
            "_model_name": "ProgressStyleModel",
            "_view_count": null,
            "_view_module": "@jupyter-widgets/base",
            "_view_module_version": "1.2.0",
            "_view_name": "StyleView",
            "bar_color": null,
            "description_width": ""
          }
        },
        "c41973252118468da46558f945b5f970": {
          "model_module": "@jupyter-widgets/base",
          "model_name": "LayoutModel",
          "model_module_version": "1.2.0",
          "state": {
            "_model_module": "@jupyter-widgets/base",
            "_model_module_version": "1.2.0",
            "_model_name": "LayoutModel",
            "_view_count": null,
            "_view_module": "@jupyter-widgets/base",
            "_view_module_version": "1.2.0",
            "_view_name": "LayoutView",
            "align_content": null,
            "align_items": null,
            "align_self": null,
            "border": null,
            "bottom": null,
            "display": null,
            "flex": null,
            "flex_flow": null,
            "grid_area": null,
            "grid_auto_columns": null,
            "grid_auto_flow": null,
            "grid_auto_rows": null,
            "grid_column": null,
            "grid_gap": null,
            "grid_row": null,
            "grid_template_areas": null,
            "grid_template_columns": null,
            "grid_template_rows": null,
            "height": null,
            "justify_content": null,
            "justify_items": null,
            "left": null,
            "margin": null,
            "max_height": null,
            "max_width": null,
            "min_height": null,
            "min_width": null,
            "object_fit": null,
            "object_position": null,
            "order": null,
            "overflow": null,
            "overflow_x": null,
            "overflow_y": null,
            "padding": null,
            "right": null,
            "top": null,
            "visibility": null,
            "width": null
          }
        },
        "e327445f46ca4f3dae305ad5dae149bc": {
          "model_module": "@jupyter-widgets/controls",
          "model_name": "DescriptionStyleModel",
          "model_module_version": "1.5.0",
          "state": {
            "_model_module": "@jupyter-widgets/controls",
            "_model_module_version": "1.5.0",
            "_model_name": "DescriptionStyleModel",
            "_view_count": null,
            "_view_module": "@jupyter-widgets/base",
            "_view_module_version": "1.2.0",
            "_view_name": "StyleView",
            "description_width": ""
          }
        }
      }
    }
  },
  "cells": [
    {
      "cell_type": "code",
      "execution_count": 1,
      "metadata": {
        "colab": {
          "base_uri": "https://localhost:8080/"
        },
        "id": "f_nrQyByC_rA",
        "outputId": "dfabc19a-89a6-4d20-9078-579491cb1990"
      },
      "outputs": [
        {
          "output_type": "stream",
          "name": "stdout",
          "text": [
            "Mounted at /content/gdrive\n"
          ]
        }
      ],
      "source": [
        "from google.colab import drive\n",
        "drive.mount('/content/gdrive')"
      ]
    },
    {
      "cell_type": "code",
      "source": [
        "import pandas as pd\n",
        "data = pd.read_csv('/content/gdrive/MyDrive/Otus/text_processing/spectacle.csv')\n",
        "data.head()"
      ],
      "metadata": {
        "colab": {
          "base_uri": "https://localhost:8080/",
          "height": 206
        },
        "id": "Iku369rPDDXv",
        "outputId": "93f95d9d-2c70-4b92-e959-c0057f6035b1"
      },
      "execution_count": 3,
      "outputs": [
        {
          "output_type": "execute_result",
          "data": {
            "text/plain": [
              "   rating                                        description\n",
              "0     9.6  Мюзикл идет с антрактом.        Забронируйте с...\n",
              "1     9.7  Премьера комедийного мюзикла от продюсеров Mam...\n",
              "2     8.7  «Идеальный муж» - комедия Оскара Уайльда с лов...\n",
              "3     9.6  «Анна Каренина» — мировой шедевр на одном дыха...\n",
              "4     9.1  Мюзикл «Граф Орлов» — Театральный блокбастер! ..."
            ],
            "text/html": [
              "\n",
              "  <div id=\"df-5f4b66a1-cf59-49c5-a2b9-e0392f1edb21\" class=\"colab-df-container\">\n",
              "    <div>\n",
              "<style scoped>\n",
              "    .dataframe tbody tr th:only-of-type {\n",
              "        vertical-align: middle;\n",
              "    }\n",
              "\n",
              "    .dataframe tbody tr th {\n",
              "        vertical-align: top;\n",
              "    }\n",
              "\n",
              "    .dataframe thead th {\n",
              "        text-align: right;\n",
              "    }\n",
              "</style>\n",
              "<table border=\"1\" class=\"dataframe\">\n",
              "  <thead>\n",
              "    <tr style=\"text-align: right;\">\n",
              "      <th></th>\n",
              "      <th>rating</th>\n",
              "      <th>description</th>\n",
              "    </tr>\n",
              "  </thead>\n",
              "  <tbody>\n",
              "    <tr>\n",
              "      <th>0</th>\n",
              "      <td>9.6</td>\n",
              "      <td>Мюзикл идет с антрактом.        Забронируйте с...</td>\n",
              "    </tr>\n",
              "    <tr>\n",
              "      <th>1</th>\n",
              "      <td>9.7</td>\n",
              "      <td>Премьера комедийного мюзикла от продюсеров Mam...</td>\n",
              "    </tr>\n",
              "    <tr>\n",
              "      <th>2</th>\n",
              "      <td>8.7</td>\n",
              "      <td>«Идеальный муж» - комедия Оскара Уайльда с лов...</td>\n",
              "    </tr>\n",
              "    <tr>\n",
              "      <th>3</th>\n",
              "      <td>9.6</td>\n",
              "      <td>«Анна Каренина» — мировой шедевр на одном дыха...</td>\n",
              "    </tr>\n",
              "    <tr>\n",
              "      <th>4</th>\n",
              "      <td>9.1</td>\n",
              "      <td>Мюзикл «Граф Орлов» — Театральный блокбастер! ...</td>\n",
              "    </tr>\n",
              "  </tbody>\n",
              "</table>\n",
              "</div>\n",
              "    <div class=\"colab-df-buttons\">\n",
              "\n",
              "  <div class=\"colab-df-container\">\n",
              "    <button class=\"colab-df-convert\" onclick=\"convertToInteractive('df-5f4b66a1-cf59-49c5-a2b9-e0392f1edb21')\"\n",
              "            title=\"Convert this dataframe to an interactive table.\"\n",
              "            style=\"display:none;\">\n",
              "\n",
              "  <svg xmlns=\"http://www.w3.org/2000/svg\" height=\"24px\" viewBox=\"0 -960 960 960\">\n",
              "    <path d=\"M120-120v-720h720v720H120Zm60-500h600v-160H180v160Zm220 220h160v-160H400v160Zm0 220h160v-160H400v160ZM180-400h160v-160H180v160Zm440 0h160v-160H620v160ZM180-180h160v-160H180v160Zm440 0h160v-160H620v160Z\"/>\n",
              "  </svg>\n",
              "    </button>\n",
              "\n",
              "  <style>\n",
              "    .colab-df-container {\n",
              "      display:flex;\n",
              "      gap: 12px;\n",
              "    }\n",
              "\n",
              "    .colab-df-convert {\n",
              "      background-color: #E8F0FE;\n",
              "      border: none;\n",
              "      border-radius: 50%;\n",
              "      cursor: pointer;\n",
              "      display: none;\n",
              "      fill: #1967D2;\n",
              "      height: 32px;\n",
              "      padding: 0 0 0 0;\n",
              "      width: 32px;\n",
              "    }\n",
              "\n",
              "    .colab-df-convert:hover {\n",
              "      background-color: #E2EBFA;\n",
              "      box-shadow: 0px 1px 2px rgba(60, 64, 67, 0.3), 0px 1px 3px 1px rgba(60, 64, 67, 0.15);\n",
              "      fill: #174EA6;\n",
              "    }\n",
              "\n",
              "    .colab-df-buttons div {\n",
              "      margin-bottom: 4px;\n",
              "    }\n",
              "\n",
              "    [theme=dark] .colab-df-convert {\n",
              "      background-color: #3B4455;\n",
              "      fill: #D2E3FC;\n",
              "    }\n",
              "\n",
              "    [theme=dark] .colab-df-convert:hover {\n",
              "      background-color: #434B5C;\n",
              "      box-shadow: 0px 1px 3px 1px rgba(0, 0, 0, 0.15);\n",
              "      filter: drop-shadow(0px 1px 2px rgba(0, 0, 0, 0.3));\n",
              "      fill: #FFFFFF;\n",
              "    }\n",
              "  </style>\n",
              "\n",
              "    <script>\n",
              "      const buttonEl =\n",
              "        document.querySelector('#df-5f4b66a1-cf59-49c5-a2b9-e0392f1edb21 button.colab-df-convert');\n",
              "      buttonEl.style.display =\n",
              "        google.colab.kernel.accessAllowed ? 'block' : 'none';\n",
              "\n",
              "      async function convertToInteractive(key) {\n",
              "        const element = document.querySelector('#df-5f4b66a1-cf59-49c5-a2b9-e0392f1edb21');\n",
              "        const dataTable =\n",
              "          await google.colab.kernel.invokeFunction('convertToInteractive',\n",
              "                                                    [key], {});\n",
              "        if (!dataTable) return;\n",
              "\n",
              "        const docLinkHtml = 'Like what you see? Visit the ' +\n",
              "          '<a target=\"_blank\" href=https://colab.research.google.com/notebooks/data_table.ipynb>data table notebook</a>'\n",
              "          + ' to learn more about interactive tables.';\n",
              "        element.innerHTML = '';\n",
              "        dataTable['output_type'] = 'display_data';\n",
              "        await google.colab.output.renderOutput(dataTable, element);\n",
              "        const docLink = document.createElement('div');\n",
              "        docLink.innerHTML = docLinkHtml;\n",
              "        element.appendChild(docLink);\n",
              "      }\n",
              "    </script>\n",
              "  </div>\n",
              "\n",
              "\n",
              "<div id=\"df-a99c8ee2-92d2-4e34-a6c6-d7743eb9f62e\">\n",
              "  <button class=\"colab-df-quickchart\" onclick=\"quickchart('df-a99c8ee2-92d2-4e34-a6c6-d7743eb9f62e')\"\n",
              "            title=\"Suggest charts\"\n",
              "            style=\"display:none;\">\n",
              "\n",
              "<svg xmlns=\"http://www.w3.org/2000/svg\" height=\"24px\"viewBox=\"0 0 24 24\"\n",
              "     width=\"24px\">\n",
              "    <g>\n",
              "        <path d=\"M19 3H5c-1.1 0-2 .9-2 2v14c0 1.1.9 2 2 2h14c1.1 0 2-.9 2-2V5c0-1.1-.9-2-2-2zM9 17H7v-7h2v7zm4 0h-2V7h2v10zm4 0h-2v-4h2v4z\"/>\n",
              "    </g>\n",
              "</svg>\n",
              "  </button>\n",
              "\n",
              "<style>\n",
              "  .colab-df-quickchart {\n",
              "      --bg-color: #E8F0FE;\n",
              "      --fill-color: #1967D2;\n",
              "      --hover-bg-color: #E2EBFA;\n",
              "      --hover-fill-color: #174EA6;\n",
              "      --disabled-fill-color: #AAA;\n",
              "      --disabled-bg-color: #DDD;\n",
              "  }\n",
              "\n",
              "  [theme=dark] .colab-df-quickchart {\n",
              "      --bg-color: #3B4455;\n",
              "      --fill-color: #D2E3FC;\n",
              "      --hover-bg-color: #434B5C;\n",
              "      --hover-fill-color: #FFFFFF;\n",
              "      --disabled-bg-color: #3B4455;\n",
              "      --disabled-fill-color: #666;\n",
              "  }\n",
              "\n",
              "  .colab-df-quickchart {\n",
              "    background-color: var(--bg-color);\n",
              "    border: none;\n",
              "    border-radius: 50%;\n",
              "    cursor: pointer;\n",
              "    display: none;\n",
              "    fill: var(--fill-color);\n",
              "    height: 32px;\n",
              "    padding: 0;\n",
              "    width: 32px;\n",
              "  }\n",
              "\n",
              "  .colab-df-quickchart:hover {\n",
              "    background-color: var(--hover-bg-color);\n",
              "    box-shadow: 0 1px 2px rgba(60, 64, 67, 0.3), 0 1px 3px 1px rgba(60, 64, 67, 0.15);\n",
              "    fill: var(--button-hover-fill-color);\n",
              "  }\n",
              "\n",
              "  .colab-df-quickchart-complete:disabled,\n",
              "  .colab-df-quickchart-complete:disabled:hover {\n",
              "    background-color: var(--disabled-bg-color);\n",
              "    fill: var(--disabled-fill-color);\n",
              "    box-shadow: none;\n",
              "  }\n",
              "\n",
              "  .colab-df-spinner {\n",
              "    border: 2px solid var(--fill-color);\n",
              "    border-color: transparent;\n",
              "    border-bottom-color: var(--fill-color);\n",
              "    animation:\n",
              "      spin 1s steps(1) infinite;\n",
              "  }\n",
              "\n",
              "  @keyframes spin {\n",
              "    0% {\n",
              "      border-color: transparent;\n",
              "      border-bottom-color: var(--fill-color);\n",
              "      border-left-color: var(--fill-color);\n",
              "    }\n",
              "    20% {\n",
              "      border-color: transparent;\n",
              "      border-left-color: var(--fill-color);\n",
              "      border-top-color: var(--fill-color);\n",
              "    }\n",
              "    30% {\n",
              "      border-color: transparent;\n",
              "      border-left-color: var(--fill-color);\n",
              "      border-top-color: var(--fill-color);\n",
              "      border-right-color: var(--fill-color);\n",
              "    }\n",
              "    40% {\n",
              "      border-color: transparent;\n",
              "      border-right-color: var(--fill-color);\n",
              "      border-top-color: var(--fill-color);\n",
              "    }\n",
              "    60% {\n",
              "      border-color: transparent;\n",
              "      border-right-color: var(--fill-color);\n",
              "    }\n",
              "    80% {\n",
              "      border-color: transparent;\n",
              "      border-right-color: var(--fill-color);\n",
              "      border-bottom-color: var(--fill-color);\n",
              "    }\n",
              "    90% {\n",
              "      border-color: transparent;\n",
              "      border-bottom-color: var(--fill-color);\n",
              "    }\n",
              "  }\n",
              "</style>\n",
              "\n",
              "  <script>\n",
              "    async function quickchart(key) {\n",
              "      const quickchartButtonEl =\n",
              "        document.querySelector('#' + key + ' button');\n",
              "      quickchartButtonEl.disabled = true;  // To prevent multiple clicks.\n",
              "      quickchartButtonEl.classList.add('colab-df-spinner');\n",
              "      try {\n",
              "        const charts = await google.colab.kernel.invokeFunction(\n",
              "            'suggestCharts', [key], {});\n",
              "      } catch (error) {\n",
              "        console.error('Error during call to suggestCharts:', error);\n",
              "      }\n",
              "      quickchartButtonEl.classList.remove('colab-df-spinner');\n",
              "      quickchartButtonEl.classList.add('colab-df-quickchart-complete');\n",
              "    }\n",
              "    (() => {\n",
              "      let quickchartButtonEl =\n",
              "        document.querySelector('#df-a99c8ee2-92d2-4e34-a6c6-d7743eb9f62e button');\n",
              "      quickchartButtonEl.style.display =\n",
              "        google.colab.kernel.accessAllowed ? 'block' : 'none';\n",
              "    })();\n",
              "  </script>\n",
              "</div>\n",
              "    </div>\n",
              "  </div>\n"
            ],
            "application/vnd.google.colaboratory.intrinsic+json": {
              "type": "dataframe",
              "variable_name": "data",
              "summary": "{\n  \"name\": \"data\",\n  \"rows\": 850,\n  \"fields\": [\n    {\n      \"column\": \"rating\",\n      \"properties\": {\n        \"dtype\": \"number\",\n        \"std\": 0.7675068221815351,\n        \"min\": 5.0,\n        \"max\": 10.0,\n        \"num_unique_values\": 41,\n        \"samples\": [\n          7.6,\n          9.2,\n          9.0\n        ],\n        \"semantic_type\": \"\",\n        \"description\": \"\"\n      }\n    },\n    {\n      \"column\": \"description\",\n      \"properties\": {\n        \"dtype\": \"string\",\n        \"num_unique_values\": 830,\n        \"samples\": [\n          \"\\u0421\\u043f\\u0435\\u043a\\u0442\\u0430\\u043a\\u043b\\u044c \\u00ab\\u0412\\u043e\\u043b\\u0448\\u0435\\u0431\\u043d\\u0430\\u044f \\u0431\\u0430\\u0440\\u0430\\u0431\\u0430\\u043d\\u043d\\u0430\\u044f \\u043f\\u0430\\u043b\\u043e\\u0447\\u043a\\u0430\\u00bb \\u0432 \\u041c\\u043e\\u0441\\u043a\\u043e\\u0432\\u0441\\u043a\\u043e\\u043c \\u0413\\u0443\\u0431\\u0435\\u0440\\u043d\\u0441\\u043a\\u043e\\u043c \\u0442\\u0435\\u0430\\u0442\\u0440\\u0435  \\u041d\\u0435\\u043f\\u043e\\u0441\\u043b\\u0443\\u0448\\u043d\\u044b\\u0439 \\u043c\\u0430\\u043b\\u044c\\u0447\\u0438\\u043a \\u0421\\u0435\\u043c\\u0430 \\u043d\\u0430 \\u041d\\u043e\\u0432\\u044b\\u0439 \\u0433\\u043e\\u0434 \\u043f\\u043e\\u043b\\u0443\\u0447\\u0430\\u0435\\u0442 \\u043f\\u043e\\u0434\\u0430\\u0440\\u043e\\u043a, \\u043f\\u0440\\u0435\\u0434\\u043d\\u0430\\u0437\\u043d\\u0430\\u0447\\u0430\\u0432\\u0448\\u0438\\u0439\\u0441\\u044f \\u043d\\u0435 \\u0435\\u043c\\u0443, \\u0438 \\u043f\\u043e\\u043f\\u0430\\u0434\\u0430\\u0435\\u0442 \\u0432\\u043d\\u0443\\u0442\\u0440\\u044c \\u0432\\u043e\\u043b\\u0448\\u0435\\u0431\\u043d\\u043e\\u0439 \\u043c\\u0443\\u0437\\u044b\\u043a\\u0430\\u043b\\u044c\\u043d\\u043e\\u0439 \\u0448\\u043a\\u0430\\u0442\\u0443\\u043b\\u043a\\u0438. \\u0422\\u0435\\u043f\\u0435\\u0440\\u044c, \\u0447\\u0442\\u043e\\u0431\\u044b \\u0432\\u044b\\u0431\\u0440\\u0430\\u0442\\u044c\\u0441\\u044f \\u043e\\u0442\\u0442\\u0443\\u0434\\u0430, \\u043e\\u043d \\u0434\\u043e\\u043b\\u0436\\u0435\\u043d \\u043f\\u0440\\u043e\\u0434\\u0438\\u0440\\u0438\\u0436\\u0438\\u0440\\u043e\\u0432\\u0430\\u0442\\u044c \\u043d\\u0430\\u0441\\u0442\\u043e\\u044f\\u0449\\u0438\\u043c \\u043e\\u0440\\u043a\\u0435\\u0441\\u0442\\u0440\\u043e\\u043c \\u0432\\u043d\\u0443\\u0442\\u0440\\u0438 \\u0448\\u043a\\u0430\\u0442\\u0443\\u043b\\u043a\\u0438 \\u0441 \\u043f\\u043e\\u043c\\u043e\\u0449\\u044c\\u044e \\u0432\\u043e\\u043b\\u0448\\u0435\\u0431\\u043d\\u043e\\u0439 \\u0431\\u0430\\u0440\\u0430\\u0431\\u0430\\u043d\\u043d\\u043e\\u0439 \\u043f\\u0430\\u043b\\u043e\\u0447\\u043a\\u0438. \\u041d\\u043e \\u0437\\u0430\\u0441\\u0442\\u0430\\u0432\\u0438\\u0442\\u044c \\u0438\\u0433\\u0440\\u0430\\u0442\\u044c \\u043e\\u0440\\u043a\\u0435\\u0441\\u0442\\u0440 \\u0447\\u0438\\u0441\\u0442\\u043e \\u043c\\u043e\\u0436\\u0435\\u0442 \\u043b\\u0438\\u0448\\u044c \\u0447\\u0435\\u043b\\u043e\\u0432\\u0435\\u043a \\u0431\\u0435\\u0437 \\u0444\\u0430\\u043b\\u044c\\u0448\\u0438 \\u0438 \\u043d\\u0435\\u0434\\u043e\\u0441\\u0442\\u0430\\u0442\\u043a\\u043e\\u0432. \\u0421\\u043c\\u043e\\u0436\\u0435\\u0442 \\u043b\\u0438 \\u0421\\u0435\\u043c\\u0430 \\u0438\\u0441\\u043f\\u0440\\u0430\\u0432\\u0438\\u0442\\u044c\\u0441\\u044f \\u0438 \\u0432\\u044b\\u0431\\u0440\\u0430\\u0442\\u044c\\u0441\\u044f \\u0438\\u0437 \\u043b\\u043e\\u0432\\u0443\\u0448\\u043a\\u0438?  \\u0414\\u0435\\u0442\\u0441\\u043a\\u0438\\u0439 \\u043c\\u0443\\u0437\\u044b\\u043a\\u0430\\u043b\\u044c\\u043d\\u044b\\u0439 \\u0441\\u043f\\u0435\\u043a\\u0442\\u0430\\u043a\\u043b\\u044c \\u00ab\\u0412\\u043e\\u043b\\u0448\\u0435\\u0431\\u043d\\u0430\\u044f \\u0431\\u0430\\u0440\\u0430\\u0431\\u0430\\u043d\\u043d\\u0430\\u044f \\u043f\\u0430\\u043b\\u043e\\u0447\\u043a\\u0430\\u00bb \\u043f\\u043e\\u0437\\u043d\\u0430\\u043a\\u043e\\u043c\\u0438\\u0442 \\u0434\\u0435\\u0442\\u0435\\u0439 \\u0438 \\u0432\\u0437\\u0440\\u043e\\u0441\\u043b\\u044b\\u0445 \\u0441 \\u0436\\u0435\\u043c\\u0447\\u0443\\u0436\\u0438\\u043d\\u0430\\u043c\\u0438 \\u043c\\u0438\\u0440\\u043e\\u0432\\u043e\\u0433\\u043e \\u043c\\u0443\\u0437\\u044b\\u043a\\u0430\\u043b\\u044c\\u043d\\u043e\\u0433\\u043e \\u0438\\u0441\\u043a\\u0443\\u0441\\u0441\\u0442\\u0432\\u0430 \\u0432 \\u0438\\u0441\\u043f\\u043e\\u043b\\u043d\\u0435\\u043d\\u0438\\u0438 \\u0413\\u0443\\u0431\\u0435\\u0440\\u043d\\u0430\\u0442\\u043e\\u0440\\u0441\\u043a\\u043e\\u0433\\u043e \\u043e\\u0440\\u043a\\u0435\\u0441\\u0442\\u0440\\u0430 \\u041c\\u043e\\u0441\\u043a\\u043e\\u0432\\u0441\\u043a\\u043e\\u0439 \\u043e\\u0431\\u043b\\u0430\\u0441\\u0442\\u0438, \\u0440\\u0430\\u0441\\u0441\\u043a\\u0430\\u0436\\u0435\\u0442 \\u043e\\u0431 \\u0438\\u043d\\u0442\\u0435\\u0440\\u0435\\u0441\\u043d\\u044b\\u0445 \\u0444\\u0430\\u043a\\u0442\\u0430\\u0445 \\u0438\\u0437 \\u0436\\u0438\\u0437\\u043d\\u0438 \\u0432\\u0435\\u043b\\u0438\\u043a\\u0438\\u0445 \\u0440\\u0443\\u0441\\u0441\\u043a\\u0438\\u0445 \\u0438 \\u0437\\u0430\\u0440\\u0443\\u0431\\u0435\\u0436\\u043d\\u044b\\u0445 \\u043a\\u043e\\u043c\\u043f\\u043e\\u0437\\u0438\\u0442\\u043e\\u0440\\u043e\\u0432 \\u0438 \\u043f\\u043e\\u0440\\u0430\\u0434\\u0443\\u0435\\u0442 \\u0438\\u043d\\u0442\\u0435\\u0440\\u0435\\u0441\\u043d\\u043e\\u0439 \\u0438 \\u043f\\u043e\\u0443\\u0447\\u0438\\u0442\\u0435\\u043b\\u044c\\u043d\\u043e\\u0439 \\u0438\\u0441\\u0442\\u043e\\u0440\\u0438\\u0435\\u0439.  \\u0412 \\u0441\\u043f\\u0435\\u043a\\u0442\\u0430\\u043a\\u043b\\u0435 \\u0437\\u0432\\u0443\\u0447\\u0438\\u0442 \\u043c\\u0443\\u0437\\u044b\\u043a\\u0430 \\u041f.\\u0418. \\u0427\\u0430\\u0439\\u043a\\u043e\\u0432\\u0441\\u043a\\u043e\\u0433\\u043e, \\u0410. \\u0425\\u0430\\u0447\\u0430\\u0442\\u0443\\u0440\\u044f\\u043d\\u0430, \\u0418.\\u0421. \\u0411\\u0430\\u0445\\u0430, \\u0412.\\u0410. \\u041c\\u043e\\u0446\\u0430\\u0440\\u0442\\u0430, \\u0418. \\u0411\\u0440\\u0430\\u043c\\u0441\\u0430, \\u0418. \\u0428\\u0442\\u0440\\u0430\\u0443\\u0441\\u0430, \\u0420. \\u0412\\u0430\\u0433\\u043d\\u0435\\u0440\\u0430.\",\n          \"\\u041f\\u0440\\u0435\\u043c\\u044c\\u0435\\u0440\\u0430!  \\t\\u041f\\u043e \\u0441\\u0442\\u0438\\u0445\\u0430\\u043c \\u0441\\u043e\\u0432\\u0435\\u0442\\u0441\\u043a\\u0438\\u0445 \\u043f\\u043e\\u044d\\u0442\\u043e\\u0432 50-70-\\u0445 \\u0433\\u043e\\u0434\\u043e\\u0432 \\u0438 \\u043d\\u0435 \\u0442\\u043e\\u043b\\u044c\\u043a\\u043e  \\u0421\\u043f\\u0435\\u043a\\u0442\\u0430\\u043a\\u043b\\u044c \\u043e \\u043b\\u044e\\u0431\\u0432\\u0438 \\u0438 \\u043e \\u043f\\u043e\\u0438\\u0441\\u043a\\u0435 \\u0442\\u043e\\u0439 \\u0435\\u0434\\u0438\\u043d\\u0441\\u0442\\u0432\\u0435\\u043d\\u043d\\u043e\\u0439, \\u043d\\u0435\\u043f\\u043e\\u0432\\u0442\\u043e\\u0440\\u0438\\u043c\\u043e\\u0439, \\u043a\\u043e\\u0442\\u043e\\u0440\\u0443\\u044e \\u043c\\u043e\\u0436\\u043d\\u043e \\u043d\\u0430\\u0437\\u0432\\u0430\\u0442\\u044c \\u0416\\u0435\\u043d\\u0449\\u0438\\u043d\\u043e\\u0439 \\u0441 \\u0431\\u043e\\u043b\\u044c\\u0448\\u043e\\u0439 \\u0431\\u0443\\u043a\\u0432\\u044b. \\u0413\\u043b\\u0430\\u0432\\u043d\\u044b\\u043c \\u0434\\u0435\\u0439\\u0441\\u0442\\u0432\\u0443\\u044e\\u0449\\u0438\\u043c \\u043b\\u0438\\u0446\\u043e\\u043c \\u043f\\u043e\\u0441\\u0442\\u0430\\u043d\\u043e\\u0432\\u043a\\u0438 \\u0441\\u0442\\u0430\\u043b \\u043c\\u043e\\u0441\\u043a\\u043e\\u0432\\u0441\\u043a\\u0438\\u0439 \\u0434\\u0432\\u043e\\u0440\\u0438\\u043a 50-70-\\u0445 \\u0433\\u043e\\u0434\\u043e\\u0432 \\u2013 \\u0441\\u0432\\u0438\\u0434\\u0435\\u0442\\u0435\\u043b\\u044c \\u0432\\u0441\\u0442\\u0440\\u0435\\u0447 \\u0438 \\u0440\\u0430\\u0441\\u0441\\u0442\\u0430\\u0432\\u0430\\u043d\\u0438\\u0439, \\u0432\\u043b\\u044e\\u0431\\u043b\\u0435\\u043d\\u043d\\u043e\\u0441\\u0442\\u0435\\u0439 \\u0438 \\u043e\\u0436\\u0438\\u0434\\u0430\\u043d\\u0438\\u0439 \\u043b\\u044e\\u0431\\u0432\\u0438, \\u0441\\u0447\\u0430\\u0441\\u0442\\u043b\\u0438\\u0432\\u044b\\u0445 \\u0441\\u0432\\u0438\\u0434\\u0430\\u043d\\u0438\\u0439 \\u0438 \\u0440\\u0430\\u0437\\u043c\\u043e\\u043b\\u0432\\u043e\\u043a. \\u0414\\u0432\\u043e\\u0440, \\u043e\\u043d \\u0436\\u0435 \\u0434\\u043e\\u043c, \\u043d\\u0430\\u043f\\u043e\\u043b\\u043d\\u0435\\u043d\\u043d\\u044b\\u0439 \\u0436\\u0438\\u0437\\u043d\\u044c\\u044e, \\u0441\\u043c\\u043e\\u0442\\u0440\\u0438\\u0442 \\u043d\\u0430 \\u0432\\u0441\\u0435 \\u043f\\u0440\\u043e\\u0438\\u0441\\u0445\\u043e\\u0434\\u044f\\u0449\\u0435\\u0435 \\u0441\\u0432\\u043e\\u0438\\u043c\\u0438 \\u043e\\u043a\\u043e\\u0448\\u043a\\u0430\\u043c\\u0438, \\u0442\\u0430\\u043a\\u0438\\u043c\\u0438 \\u0436\\u0435 \\u0440\\u0430\\u0437\\u043d\\u044b\\u043c\\u0438, \\u043a\\u0430\\u043a \\u0438 \\u0441\\u0443\\u0434\\u044c\\u0431\\u044b \\u043a\\u0430\\u0436\\u0434\\u043e\\u0433\\u043e, \\u0436\\u0438\\u0432\\u0443\\u0449\\u0435\\u0433\\u043e \\u0437\\u0430 \\u043d\\u0438\\u043c\\u0438. \\u0421\\u043f\\u0435\\u043a\\u0442\\u0430\\u043a\\u043b\\u044c \\u00ab\\u041f\\u043e\\u0447\\u0442\\u0438 \\u0441\\u0447\\u0430\\u0441\\u0442\\u043b\\u0438\\u0432\\u0430\\u044f \\u0438\\u0441\\u0442\\u043e\\u0440\\u0438\\u044f\\u00bb \\u2013 \\u0441\\u0432\\u043e\\u0435\\u043e\\u0431\\u0440\\u0430\\u0437\\u043d\\u0430\\u044f \\u043a\\u0438\\u043d\\u043e\\u043b\\u0435\\u043d\\u0442\\u0430 \\u043f\\u0430\\u043c\\u044f\\u0442\\u0438, \\u043d\\u043e\\u0441\\u0442\\u0430\\u043b\\u044c\\u0433\\u0438\\u044f \\u043f\\u043e \\u0442\\u043e\\u043c\\u0443 \\u043d\\u0435\\u043c\\u043d\\u043e\\u0433\\u043e \\u043d\\u0430\\u0438\\u0432\\u043d\\u043e\\u043c\\u0443, \\u0432\\u044b\\u0446\\u0432\\u0435\\u0442\\u0448\\u0435\\u043c\\u0443, \\u0441\\u043b\\u043e\\u0432\\u043d\\u043e \\u0441\\u0442\\u0430\\u0440\\u0430\\u044f \\u0444\\u043e\\u0442\\u043e\\u0433\\u0440\\u0430\\u0444\\u0438\\u044f, \\u0443\\u0436\\u0435 \\u0442\\u0430\\u043a\\u043e\\u043c\\u0443 \\u0434\\u0430\\u043b\\u0435\\u043a\\u043e\\u043c\\u0443, \\u043d\\u043e \\u043f\\u0440\\u0435\\u043a\\u0440\\u0430\\u0441\\u043d\\u043e\\u043c\\u0443 \\u0432\\u0440\\u0435\\u043c\\u0435\\u043d\\u0438. \\u0412 \\u0441\\u043f\\u0435\\u043a\\u0442\\u0430\\u043a\\u043b\\u0435 \\u0437\\u0432\\u0443\\u0447\\u0430\\u0442 \\u0441\\u0442\\u0438\\u0445\\u0438 \\u042e\\u0440\\u0438\\u044f \\u041b\\u0435\\u0432\\u0438\\u0442\\u0430\\u043d\\u0441\\u043a\\u043e\\u0433\\u043e, \\u0420\\u043e\\u0431\\u0435\\u0440\\u0442\\u0430 \\u0420\\u043e\\u0436\\u0434\\u0435\\u0441\\u0442\\u0432\\u0435\\u043d\\u0441\\u043a\\u043e\\u0433\\u043e, \\u0410\\u043b\\u0435\\u043a\\u0441\\u0430\\u043d\\u0434\\u0440\\u0430 \\u041a\\u0443\\u0448\\u043d\\u0435\\u0440\\u0430, \\u0411\\u0435\\u043b\\u043b\\u044b \\u0410\\u0445\\u043c\\u0430\\u0434\\u0443\\u043b\\u043b\\u0438\\u043d\\u043e\\u0439, \\u0418\\u0440\\u0438\\u043d\\u044b \\u041e\\u0434\\u043e\\u0435\\u0432\\u0446\\u0435\\u0432\\u043e\\u0439, \\u0418\\u0440\\u0438\\u043d\\u044b \\u0421\\u043d\\u0435\\u0433\\u043e\\u0432\\u043e\\u0439, \\u041e\\u043b\\u044c\\u0433\\u0438 \\u0428\\u0443\\u043c\\u044f\\u0446\\u043a\\u043e\\u0439 \\u0438 \\u0440\\u0435\\u0436\\u0438\\u0441\\u0441\\u0435\\u0440\\u0430 \\u0410\\u043d\\u043d\\u044b \\u041b\\u0435\\u0432\\u0430\\u043d\\u043e\\u0432\\u043e\\u0439, \\u0434\\u043b\\u044f \\u043a\\u043e\\u0442\\u043e\\u0440\\u043e\\u0439 \\u044d\\u0442\\u0430 \\u043f\\u043e\\u0441\\u0442\\u0430\\u043d\\u043e\\u0432\\u043a\\u0430 \\u0441\\u0442\\u0430\\u043b\\u0430 \\u0440\\u0435\\u0436\\u0438\\u0441\\u0441\\u0435\\u0440\\u0441\\u043a\\u0438\\u043c \\u0434\\u0435\\u0431\\u044e\\u0442\\u043e\\u043c \\u043d\\u0430 \\u0442\\u0435\\u0430\\u0442\\u0440\\u0430\\u043b\\u044c\\u043d\\u043e\\u0439 \\u0441\\u0446\\u0435\\u043d\\u0435.   \\u041c\\u0443\\u0437\\u044b\\u043a\\u0430:   \\u0427\\u0430\\u0440\\u043b\\u0438 \\u0427\\u0430\\u043f\\u043b\\u0438\\u043d \\u0444\\u0440\\u0430\\u0433\\u043c\\u0435\\u043d\\u0442 \\u0438\\u0437 \\u043a/\\u0444 \\u00ab\\u0417\\u043e\\u043b\\u043e\\u0442\\u0430\\u044f \\u043b\\u0438\\u0445\\u043e\\u0440\\u0430\\u0434\\u043a\\u0430\\u00bb (\\u0444\\u0440\\u0430\\u0433\\u043c\\u0435\\u043d\\u0442 \\u0437\\u0430\\u043f\\u0438\\u0441\\u0438)  \\u00ab\\u0425\\u043e\\u0442\\u044c \\u043f\\u043e\\u0432\\u0435\\u0440\\u044c\\u0442\\u0435, \\u0445\\u043e\\u0442\\u044c \\u043f\\u0440\\u043e\\u0432\\u0435\\u0440\\u044c\\u0442\\u0435\\u00bb (\\u043c\\u0443\\u0437. \\u0418\\u0433\\u043e\\u0440\\u044f \\u0426\\u0432\\u0435\\u0442\\u043a\\u043e\\u0432\\u0430, \\u0441\\u043b. \\u0418\\u043b\\u044c\\u0438 \\u0420\\u0435\\u0437\\u043d\\u0438\\u043a\\u0430)  \\u041f.\\u0418. \\u0427\\u0430\\u0439\\u043a\\u043e\\u0432\\u0441\\u043a\\u0438\\u0439 \\u00ab\\u0421\\u043b\\u0430\\u0434\\u043a\\u0430\\u044f \\u0433\\u0440\\u0451\\u0437\\u0430\\u00bb  \\u0424. \\u0428\\u043e\\u043f\\u0435\\u043d  \\u041a\\u0440\\u0438\\u0441\\u0442\\u043e\\u0444 \\u0412\\u0438\\u043b\\u043b\\u0438\\u0431\\u0430\\u043b\\u044c\\u0434 \\u0413\\u043b\\u044e\\u043a \\u00ab\\u041e\\u0440\\u0444\\u0435\\u0439 \\u0438 \\u042d\\u0432\\u0440\\u0438\\u0434\\u0438\\u043a\\u0430\\u00bb  \\u0416\\u0430\\u043d \\u0422\\u0430\\u0442\\u043b\\u044f\\u043d \\u00ab\\u0423\\u043b\\u0438\\u0447\\u043d\\u044b\\u0435 \\u0444\\u043e\\u043d\\u0430\\u0440\\u0438\\u00bb (\\u0444\\u0440\\u0430\\u0433\\u043c\\u0435\\u043d\\u0442 \\u0437\\u0430\\u043f\\u0438\\u0441\\u0438)  \\u0412\\u0430\\u043b\\u0435\\u0440\\u0438\\u0439 \\u0413\\u0430\\u0432\\u0440\\u0438\\u043b\\u0438\\u043d \\u00ab\\u0427\\u0430\\u0441\\u0438\\u043a\\u0438\\u00bb (\\u0446\\u0438\\u043a\\u043b \\u043f\\u044c\\u0435\\u0441 \\u0432 4 \\u0440\\u0443\\u043a\\u0438)  \\u0416\\u043e\\u0440\\u0436 \\u0411\\u0438\\u0437\\u0435 \\u00ab\\u0421\\u0435\\u0433\\u0438\\u0434\\u0438\\u043b\\u044c\\u044f\\u00bb \\u0438 \\u00ab\\u0425\\u0430\\u0431\\u0430\\u043d\\u0435\\u0440\\u0430\\u00bb (\\u0438\\u0437 \\u043e\\u043f\\u0435\\u0440\\u044b \\u00ab\\u041a\\u0430\\u0440\\u043c\\u0435\\u043d\\u00bb)  \\u0410\\u0438\\u0434\\u0430 \\u0412\\u0435\\u0434\\u0438\\u0449\\u0435\\u0432\\u0430 \\u00ab\\u0413\\u043e\\u043b\\u043e\\u043b\\u0451\\u0434\\u00bb (\\u0444\\u0440\\u0430\\u0433\\u043c\\u0435\\u043d\\u0442 \\u0437\\u0430\\u043f\\u0438\\u0441\\u0438, \\u043c\\u0443\\u0437. \\u0410. \\u0417\\u0430\\u0446\\u0435\\u043f\\u0438\\u043d\\u0430, \\u0441\\u043b. \\u041b. \\u0414\\u0435\\u0440\\u0431\\u0435\\u043d\\u0451\\u0432\\u0430)  The swingle singers (Bach Sinfonia No 2)  \\u0415\\u043b\\u0435\\u043d\\u0430 \\u041a\\u0430\\u043c\\u0431\\u0443\\u0440\\u043e\\u0432\\u0430 \\u00ab\\u0413\\u0434\\u0435 \\u0436\\u0435 \\u0442\\u044b, \\u043c\\u0435\\u0447\\u0442\\u0430?\\u00bb (\\u0417\\u0430\\u043f\\u0438\\u0441\\u044c, \\u043c\\u0443\\u0437. \\u042d. \\u0410\\u0440\\u0442\\u0435\\u043c\\u044c\\u0435\\u0432\\u0430, \\u0441\\u043b. \\u041d. \\u041a\\u043e\\u043d\\u0447\\u0430\\u043b\\u043e\\u0432\\u0441\\u043a\\u043e\\u0439)\",\n          \"\\u0410\\u043b\\u043b\\u0430 \\u0421\\u0438\\u0433\\u0430\\u043b\\u043e\\u0432\\u0430, \\u041a\\u043e\\u043d\\u0441\\u0442\\u0430\\u043d\\u0442\\u0438\\u043d \\u042d\\u0440\\u043d\\u0441\\u0442   \\u041f\\u0440\\u043e\\u0434\\u043e\\u043b\\u0436\\u0438\\u0442\\u0435\\u043b\\u044c\\u043d\\u043e\\u0441\\u0442\\u044c: 2 \\u0447. 15 \\u043c\\u0438\\u043d. \\u0441 1 \\u0430\\u043d\\u0442\\u0440\\u0430\\u043a\\u0442\\u043e\\u043c  \\u00ab\\u0425\\u0425 \\u0432\\u0435\\u043a. \\u0411\\u0430\\u043b\\u00bb \\u2014 \\u043e\\u0434\\u0438\\u043d \\u0438\\u0437 \\u0441\\u0430\\u043c\\u044b\\u0445 \\u043c\\u0430\\u0441\\u0448\\u0442\\u0430\\u0431\\u043d\\u044b\\u0445 \\u0441\\u043f\\u0435\\u043a\\u0442\\u0430\\u043a\\u043b\\u0435\\u0439 \\u041c\\u0425\\u0422 \\u0438\\u043c. \\u0410.\\u041f. \\u0427\\u0435\\u0445\\u043e\\u0432\\u0430. \\u0411\\u043e\\u043b\\u0435\\u0435 40 \\u0430\\u0440\\u0442\\u0438\\u0441\\u0442\\u043e\\u0432 \\u0432\\u0438\\u0440\\u0442\\u0443\\u043e\\u0437\\u043d\\u043e \\u043c\\u0435\\u043d\\u044f\\u044e\\u0442 \\u0437\\u0430 \\u0432\\u0440\\u0435\\u043c\\u044f \\u0434\\u0435\\u0439\\u0441\\u0442\\u0432\\u0438\\u044f 500 \\u043a\\u043e\\u0441\\u0442\\u044e\\u043c\\u043e\\u0432, \\u0441\\u043e\\u0437\\u0434\\u0430\\u043d\\u043d\\u044b\\u0445 \\u0438 \\u043e\\u0442\\u043e\\u0431\\u0440\\u0430\\u043d\\u043d\\u044b\\u0445 \\u0441\\u0442\\u0438\\u043b\\u0438\\u0441\\u0442\\u043e\\u043c \\u0438 \\u0438\\u0441\\u0442\\u043e\\u0440\\u0438\\u043a\\u043e\\u043c \\u043c\\u043e\\u0434\\u044b \\u0410\\u043b\\u0435\\u043a\\u0441\\u0430\\u043d\\u0434\\u0440\\u043e\\u043c \\u0412\\u0430\\u0441\\u0438\\u043b\\u044c\\u0435\\u0432\\u044b\\u043c \\u0432 \\u0441\\u043e\\u0430\\u0432\\u0442\\u043e\\u0440\\u0441\\u0442\\u0432\\u0435 \\u0441 \\u041c\\u0430\\u0440\\u0438\\u0435\\u0439 \\u0414\\u0430\\u043d\\u0438\\u043b\\u043e\\u0432\\u043e\\u0439.   \\u0414\\u0435\\u0439\\u0441\\u0442\\u0432\\u0438\\u0435 \\u0441\\u043f\\u0435\\u043a\\u0442\\u0430\\u043a\\u043b\\u044f \\u043f\\u0440\\u043e\\u0438\\u0441\\u0445\\u043e\\u0434\\u0438\\u0442 \\u043d\\u0430 \\u0436\\u0435\\u043b\\u0435\\u0437\\u043d\\u043e\\u0434\\u043e\\u0440\\u043e\\u0436\\u043d\\u043e\\u043c \\u0432\\u043e\\u043a\\u0437\\u0430\\u043b\\u0435. \\u042d\\u0442\\u043e \\u043c\\u0435\\u0441\\u0442\\u043e \\u0432\\u0441\\u0442\\u0440\\u0435\\u0447 \\u0438 \\u0440\\u0430\\u0441\\u0441\\u0442\\u0430\\u0432\\u0430\\u043d\\u0438\\u0439. \\u0418\\u043c\\u0435\\u043d\\u043d\\u043e \\u0437\\u0434\\u0435\\u0441\\u044c \\u0441\\u043e\\u0435\\u0434\\u0438\\u043d\\u044f\\u0435\\u0442\\u0441\\u044f \\u0434\\u0432\\u0438\\u0436\\u0435\\u043d\\u0438\\u0435 \\u0438 \\u043e\\u0436\\u0438\\u0434\\u0430\\u043d\\u0438\\u0435. \\u0413\\u0438\\u0433\\u0430\\u043d\\u0442\\u0441\\u043a\\u0438\\u0439 \\u043f\\u043e\\u0435\\u0437\\u0434 \\u043a\\u0440\\u0430\\u0441\\u0438\\u0432\\u043e \\u0438 \\u0443\\u0441\\u0442\\u0440\\u0430\\u0448\\u0430\\u044e\\u0449\\u0435 \\u043c\\u0447\\u0438\\u0442\\u0441\\u044f \\u043d\\u0430 \\u043f\\u0443\\u0431\\u043b\\u0438\\u043a\\u0443 \\u0441 \\u043f\\u0440\\u043e\\u0435\\u043a\\u0446\\u0438\\u043e\\u043d\\u043d\\u044b\\u0445 \\u044d\\u043a\\u0440\\u0430\\u043d\\u043e\\u0432.  \\u0412 \\u0441\\u043f\\u0435\\u043a\\u0442\\u0430\\u043a\\u043b\\u0435 \\u043f\\u0440\\u0430\\u043a\\u0442\\u0438\\u0447\\u0435\\u0441\\u043a\\u0438 \\u043d\\u0435\\u0442 \\u0441\\u043b\\u043e\\u0432. \\u0412\\u0441\\u0435 \\u044d\\u043c\\u043e\\u0446\\u0438\\u0438 \\u043f\\u0435\\u0440\\u0435\\u0434\\u0430\\u043d\\u044b \\u043f\\u043b\\u0430\\u0441\\u0442\\u0438\\u0447\\u0435\\u0441\\u043a\\u0438\\u043c\\u0438 \\u044d\\u0442\\u044e\\u0434\\u0430\\u043c\\u0438, \\u0441\\u043a\\u043b\\u0430\\u0434\\u044b\\u0432\\u0430\\u044e\\u0449\\u0438\\u043c\\u0438\\u0441\\u044f \\u0432 \\u043f\\u043e\\u0440\\u0442\\u0440\\u0435\\u0442 \\u0446\\u0435\\u043b\\u043e\\u0433\\u043e \\u0432\\u0435\\u043a\\u0430, \\u043d\\u0430\\u0447\\u0438\\u043d\\u0430\\u044f \\u0441 \\u0447\\u0435\\u0445\\u043e\\u0432\\u0441\\u043a\\u043e\\u0433\\u043e \\u201c\\u0412\\u0438\\u0448\\u043d\\u0435\\u0432\\u043e\\u0433\\u043e \\u0441\\u0430\\u0434\\u0430\\u201d \\u0438 \\u0434\\u043e \\u043f\\u0440\\u0430\\u0437\\u0434\\u043d\\u043e\\u0432\\u0430\\u043d\\u0438\\u044f \\u041c\\u0438\\u043b\\u043b\\u0435\\u043d\\u0438\\u0443\\u043c\\u0430.   \\u0420\\u0435\\u0432\\u043e\\u043b\\u044e\\u0446\\u0438\\u0438, \\u0432\\u043e\\u0439\\u043d\\u044b, \\u0440\\u0435\\u043f\\u0440\\u0435\\u0441\\u0441\\u0438\\u0438, \\u201c\\u043e\\u0442\\u0442\\u0435\\u043f\\u0435\\u043b\\u044c\\u201d \\u043f\\u0435\\u0440\\u0435\\u043f\\u043b\\u0435\\u0442\\u0430\\u044e\\u0442\\u0441\\u044f \\u0432 \\u0441\\u043f\\u0435\\u043a\\u0442\\u0430\\u043a\\u043b\\u0435 \\u0441 \\u043e\\u0431\\u0440\\u0430\\u0437\\u0430\\u043c\\u0438 \\u0438 \\u0441\\u044e\\u0436\\u0435\\u0442\\u0430\\u043c\\u0438, \\u0441\\u0443\\u0449\\u0435\\u0441\\u0442\\u0432\\u0443\\u044e\\u0449\\u0438\\u043c\\u0438 \\u0432 \\u043a\\u0443\\u043b\\u044c\\u0442\\u0443\\u0440\\u0435 \\u0438 \\u043e\\u0431\\u0449\\u0435\\u0441\\u0442\\u0432\\u0435\\u043d\\u043d\\u043e\\u043c \\u0441\\u043e\\u0437\\u043d\\u0430\\u043d\\u0438\\u0438. \\u041c\\u0435\\u043d\\u044f\\u044e\\u0442\\u0441\\u044f \\u043f\\u043e\\u043a\\u043e\\u043b\\u0435\\u043d\\u0438\\u044f \\u0438 \\u043c\\u043e\\u0434\\u0430, \\u043d\\u043e \\u0432\\u043d\\u043e\\u0432\\u044c \\u0438 \\u0432\\u043d\\u043e\\u0432\\u044c \\u043b\\u044e\\u0434\\u0438 \\u0432\\u0441\\u0442\\u0440\\u0435\\u0447\\u0430\\u044e\\u0442\\u0441\\u044f \\u0438 \\u0440\\u0430\\u0441\\u0441\\u0442\\u0430\\u044e\\u0442\\u0441\\u044f: \\u041b\\u0430\\u0440\\u0430 \\u0438 \\u0416\\u0438\\u0432\\u0430\\u0433\\u043e, \\u0410\\u0439\\u0441\\u0435\\u0434\\u043e\\u0440\\u0430 \\u0414\\u0443\\u043d\\u043a\\u0430\\u043d \\u0438 \\u0415\\u0441\\u0435\\u043d\\u0438\\u043d, \\u041c\\u0430\\u044f\\u043a\\u043e\\u0432\\u0441\\u043a\\u0438\\u0439 \\u0438 \\u0412\\u0435\\u0440\\u043e\\u043d\\u0438\\u043a\\u0430 \\u041f\\u043e\\u043b\\u043e\\u043d\\u0441\\u043a\\u0430\\u044f, \\u0433\\u0435\\u0440\\u043e\\u0438 \\u0427\\u0435\\u0445\\u043e\\u0432\\u0430, \\u0412\\u0435\\u0440\\u0442\\u0438\\u043d\\u0441\\u043a\\u043e\\u0433\\u043e, \\u0428\\u043f\\u0430\\u043b\\u0438\\u043a\\u043e\\u0432\\u0430, \\u0412\\u0430\\u043c\\u043f\\u0438\\u043b\\u043e\\u0432\\u0430, \\u0422\\u0430\\u0440\\u043a\\u043e\\u0432\\u0441\\u043a\\u043e\\u0433\\u043e\\u2026      \\u0420\\u0435\\u0436\\u0438\\u0441\\u0441\\u0435\\u0440 \\u0438 \\u0445\\u043e\\u0440\\u0435\\u043e\\u0433\\u0440\\u0430\\u0444 \\u0410\\u043b\\u043b\\u0430 \\u0421\\u0438\\u0433\\u0430\\u043b\\u043e\\u0432\\u0430:  \\u00ab\\u041f\\u043e\\u0441\\u043a\\u043e\\u043b\\u044c\\u043a\\u0443 \\u0441\\u0435\\u0433\\u043e\\u0434\\u043d\\u044f \\u043c\\u044b \\u0443\\u0436\\u0435 \\u0447\\u0443\\u0442\\u044c \\u043e\\u0442\\u043e\\u0434\\u0432\\u0438\\u043d\\u0443\\u043b\\u0438\\u0441\\u044c \\u043e\\u0442 \\u0425\\u0425 \\u0432\\u0435\\u043a\\u0430, \\u0445\\u043e\\u0447\\u0435\\u0442\\u0441\\u044f \\u043a \\u043d\\u0435\\u043c\\u0443 \\u0432\\u043e\\u0437\\u0432\\u0440\\u0430\\u0449\\u0430\\u0442\\u044c\\u0441\\u044f, \\u0435\\u0433\\u043e \\u043f\\u0435\\u0440\\u0435\\u043e\\u0441\\u043c\\u044b\\u0441\\u043b\\u0438\\u0432\\u0430\\u0442\\u044c, \\u0432\\u0441\\u043f\\u043e\\u043c\\u0438\\u043d\\u0430\\u0442\\u044c. \\u0412\\u0441\\u043f\\u043e\\u043c\\u0438\\u043d\\u0430\\u0442\\u044c \\u0442\\u0435 \\u043e\\u0431\\u0440\\u0430\\u0437\\u044b, \\u043a\\u043e\\u0442\\u043e\\u0440\\u044b\\u043c\\u0438 \\u043c\\u044b \\u0436\\u0438\\u043b\\u0438 \\u0432 \\u0443\\u0448\\u0435\\u0434\\u0448\\u0435\\u043c \\u0432\\u0435\\u043a\\u0435. \\u0412\\u043f\\u0435\\u0447\\u0430\\u0442\\u043b\\u0435\\u043d\\u0438\\u0439, \\u043a\\u043e\\u043d\\u0435\\u0447\\u043d\\u043e, \\u043c\\u043d\\u043e\\u0433\\u043e, \\u043d\\u0443\\u0436\\u043d\\u043e \\u0431\\u044b\\u043b\\u043e \\u0432\\u044b\\u0431\\u0438\\u0440\\u0430\\u0442\\u044c \\u0438 \\u0441\\u0434\\u0435\\u043b\\u0430\\u0442\\u044c \\u043e\\u0447\\u0435\\u043d\\u044c \\u043a\\u043e\\u043d\\u0446\\u0435\\u043d\\u0442\\u0440\\u0438\\u0440\\u043e\\u0432\\u0430\\u043d\\u043d\\u0443\\u044e \\u0438\\u0441\\u0442\\u043e\\u0440\\u0438\\u044e, \\u043d\\u0435 \\u0440\\u0430\\u0441\\u0442\\u0435\\u043a\\u0430\\u044f\\u0441\\u044c \\u043f\\u043e \\u0434\\u0440\\u0435\\u0432\\u0443. \\u042d\\u0442\\u043e\\u0442 \\u0441\\u043f\\u0435\\u043a\\u0442\\u0430\\u043a\\u043b\\u044c \\u2013 \\u043e\\u043c\\u043c\\u0430\\u0436, \\u0436\\u0435\\u0441\\u0442 \\u043b\\u044e\\u0431\\u0432\\u0438 \\u0438 \\u0443\\u0432\\u0430\\u0436\\u0435\\u043d\\u0438\\u044f \\u0442\\u0435\\u043c \\u043b\\u044e\\u0434\\u044f\\u043c, \\u0442\\u043e\\u0439 \\u043c\\u0443\\u0437\\u044b\\u043a\\u0435, \\u0442\\u043e\\u043c\\u0443 \\u0432\\u0440\\u0435\\u043c\\u0435\\u043d\\u0438\\u00bb.   \\u0412 \\u0441\\u043e\\u0441\\u0442\\u0430\\u0432\\u0435 \\u0438\\u0441\\u043f\\u043e\\u043b\\u043d\\u0438\\u0442\\u0435\\u043b\\u0435\\u0439 \\u0432\\u043e\\u0437\\u043c\\u043e\\u0436\\u043d\\u044b \\u0438\\u0437\\u043c\\u0435\\u043d\\u0435\\u043d\\u0438\\u044f.\"\n        ],\n        \"semantic_type\": \"\",\n        \"description\": \"\"\n      }\n    }\n  ]\n}"
            }
          },
          "metadata": {},
          "execution_count": 3
        }
      ]
    },
    {
      "source": [
        "# @title rating\n",
        "\n",
        "from matplotlib import pyplot as plt\n",
        "data['rating'].plot(kind='hist', bins=20, title='rating')\n",
        "plt.gca().spines[['top', 'right',]].set_visible(False)"
      ],
      "cell_type": "code",
      "execution_count": 4,
      "outputs": [
        {
          "output_type": "display_data",
          "data": {
            "text/plain": [
              "<Figure size 640x480 with 1 Axes>"
            ],
            "image/png": "[encoded data removed]"
          },
          "metadata": {}
        }
      ],
      "metadata": {
        "colab": {
          "base_uri": "https://localhost:8080/",
          "height": 452
        },
        "id": "uYIOZCP2DnJ-",
        "outputId": "04000e7e-1595-4755-fbcc-6c39e807b757"
      }
    },
    {
      "cell_type": "markdown",
      "source": [
        "## Предобработка текста"
      ],
      "metadata": {
        "id": "DhyGqt6eEXYw"
      }
    },
    {
      "cell_type": "markdown",
      "source": [
        "## Удаляем стоп слова"
      ],
      "metadata": {
        "id": "Skte3fMFEZp_"
      }
    },
    {
      "cell_type": "code",
      "source": [
        "import nltk"
      ],
      "metadata": {
        "id": "KyUixfAwEmQK"
      },
      "execution_count": 7,
      "outputs": []
    },
    {
      "cell_type": "code",
      "source": [
        "# загружаем список стоп-слов для русского\n",
        "nltk.download('stopwords')\n",
        "stop_words = nltk.corpus.stopwords.words('russian')\n",
        "\n",
        "# примеры стоп-слов\n",
        "print(len(stop_words))\n",
        "print(stop_words[:10])\n",
        "\n",
        "stop_words = stop_words + ['xix', 'xx']"
      ],
      "metadata": {
        "colab": {
          "base_uri": "https://localhost:8080/"
        },
        "id": "5x1ufojQEpUS",
        "outputId": "a7b56db9-5a47-4c56-ca6c-fb7a6e10d8e9"
      },
      "execution_count": 24,
      "outputs": [
        {
          "output_type": "stream",
          "name": "stdout",
          "text": [
            "151\n",
            "['и', 'в', 'во', 'не', 'что', 'он', 'на', 'я', 'с', 'со']\n"
          ]
        },
        {
          "output_type": "stream",
          "name": "stderr",
          "text": [
            "[nltk_data] Downloading package stopwords to /root/nltk_data...\n",
            "[nltk_data]   Package stopwords is already up-to-date!\n"
          ]
        }
      ]
    },
    {
      "cell_type": "code",
      "source": [
        "import re\n",
        "regex = re.compile(r'[А-Яа-яA-zёЁ-]+')\n",
        "\n",
        "def words_only(text, regex=regex):\n",
        "    try:\n",
        "        return \" \".join(regex.findall(text)).lower() # to lower case\n",
        "    except:\n",
        "        return \"\"\n",
        "\n",
        "words_only('Казнить, нельзя помиловать!!! 2023 год')"
      ],
      "metadata": {
        "colab": {
          "base_uri": "https://localhost:8080/",
          "height": 35
        },
        "id": "njf9vRUxEs57",
        "outputId": "2f5247f6-336b-456c-e2e4-ab52ef535ab4"
      },
      "execution_count": 25,
      "outputs": [
        {
          "output_type": "execute_result",
          "data": {
            "text/plain": [
              "'казнить нельзя помиловать год'"
            ],
            "application/vnd.google.colaboratory.intrinsic+json": {
              "type": "string"
            }
          },
          "metadata": {},
          "execution_count": 25
        }
      ]
    },
    {
      "cell_type": "code",
      "source": [
        "def process_data(data):\n",
        "    word_tokenizer = nltk.WordPunctTokenizer() # знаки препинания (группами) идут в один токен\n",
        "\n",
        "    texts = []\n",
        "    targets = []\n",
        "    i = 0\n",
        "    n = data.shape[0]\n",
        "\n",
        "    # поочередно проходим по всем новостям в списке\n",
        "    for index, row in data.iterrows():\n",
        "        if i%50==0:\n",
        "            print(f'{i} fom {n}')\n",
        "        i = i+1\n",
        "        text_lower = words_only(row['description']) # оставим только слова\n",
        "        tokens     = word_tokenizer.tokenize(text_lower) #разбиваем текст на слова\n",
        "\n",
        "        # удаляем пунктуацию и стоп-слова\n",
        "        tokens = [word for word in tokens if (word not in stop_words and not word.isnumeric())]\n",
        "\n",
        "        texts.append(tokens) # добавляем в предобработанный список\n",
        "\n",
        "    return texts"
      ],
      "metadata": {
        "id": "Iety_CmZExrC"
      },
      "execution_count": 26,
      "outputs": []
    },
    {
      "cell_type": "code",
      "source": [
        "y = list(data['rating'])\n",
        "texts = process_data(data)"
      ],
      "metadata": {
        "colab": {
          "base_uri": "https://localhost:8080/"
        },
        "id": "iFwQ-31uE1cH",
        "outputId": "ed535c1d-9f58-48be-eb88-ebe83fe2f794"
      },
      "execution_count": 27,
      "outputs": [
        {
          "output_type": "stream",
          "name": "stdout",
          "text": [
            "0 fom 850\n",
            "50 fom 850\n",
            "100 fom 850\n",
            "150 fom 850\n",
            "200 fom 850\n",
            "250 fom 850\n",
            "300 fom 850\n",
            "350 fom 850\n",
            "400 fom 850\n",
            "450 fom 850\n",
            "500 fom 850\n",
            "550 fom 850\n",
            "600 fom 850\n",
            "650 fom 850\n",
            "700 fom 850\n",
            "750 fom 850\n",
            "800 fom 850\n"
          ]
        }
      ]
    },
    {
      "cell_type": "code",
      "source": [
        "# example\n",
        "i = 1\n",
        "print(\"Label: \", y[i])\n",
        "print(\"Tokens: \", texts[i][:10])"
      ],
      "metadata": {
        "colab": {
          "base_uri": "https://localhost:8080/"
        },
        "id": "lIsyDt1yE3ne",
        "outputId": "801497ce-a88b-43bc-8777-63314a487c5c"
      },
      "execution_count": 28,
      "outputs": [
        {
          "output_type": "stream",
          "name": "stdout",
          "text": [
            "Label:  9.7\n",
            "Tokens:  ['премьера', 'комедийного', 'мюзикла', 'продюсеров', 'mamma', 'mia', 'призрак', 'оперы', 'chicago', 'шахматы']\n"
          ]
        }
      ]
    },
    {
      "cell_type": "code",
      "source": [
        "!pip install pymorphy2"
      ],
      "metadata": {
        "colab": {
          "base_uri": "https://localhost:8080/"
        },
        "id": "gk867i_5FK7B",
        "outputId": "118c58df-068b-49dc-a39b-9cd489a39e19"
      },
      "execution_count": 29,
      "outputs": [
        {
          "output_type": "stream",
          "name": "stdout",
          "text": [
            "Requirement already satisfied: pymorphy2 in /usr/local/lib/python3.10/dist-packages (0.9.1)\n",
            "Requirement already satisfied: dawg-python>=0.7.1 in /usr/local/lib/python3.10/dist-packages (from pymorphy2) (0.7.2)\n",
            "Requirement already satisfied: pymorphy2-dicts-ru<3.0,>=2.4 in /usr/local/lib/python3.10/dist-packages (from pymorphy2) (2.4.417127.4579844)\n",
            "Requirement already satisfied: docopt>=0.6 in /usr/local/lib/python3.10/dist-packages (from pymorphy2) (0.6.2)\n"
          ]
        }
      ]
    },
    {
      "cell_type": "code",
      "source": [
        "# загружаем библиотеку для лемматизации\n",
        "import pymorphy2 # Морфологический анализатор\n",
        "\n",
        "# инициализируем лемматизатор :)\n",
        "morph = pymorphy2.MorphAnalyzer()"
      ],
      "metadata": {
        "id": "XJuSnwXcFCoP"
      },
      "execution_count": 30,
      "outputs": []
    },
    {
      "cell_type": "code",
      "source": [
        "from tqdm import tqdm_notebook\n",
        "# применяем лемматизацию ко всем текстам\n",
        "for i in tqdm_notebook(range(len(texts))):           # tqdm_notebook создает шкалу прогресса :)\n",
        "   text_lemmatized = [morph.parse(x)[0].normal_form for x in texts[i]] # применяем лемматизацию для каждого слова в тексте\n",
        "   texts[i] = ' '.join(text_lemmatized)                # объединяем все слова в одну строку через пробел"
      ],
      "metadata": {
        "colab": {
          "base_uri": "https://localhost:8080/",
          "height": 102,
          "referenced_widgets": [
            "81d69ddf8942427a9610dccdd3ba91cc",
            "9ce7567c71194e31aeedacfbf9857c1d",
            "4b02f321e58547e4a427d3341360509c",
            "eaf8cb7f0ee945969d644f9166eda02a",
            "d2d71ae067084636a6732f7b654ca67a",
            "acd09dc40fd544628b79e84d2e587d8b",
            "078b71d27ac04791b192c5ac23c470ee",
            "b4a4933d3bb44b4eb0cf67129cc3b043",
            "941ce4d5176c42f49d99367a9e3a8fab",
            "c41973252118468da46558f945b5f970",
            "e327445f46ca4f3dae305ad5dae149bc"
          ]
        },
        "id": "9Gho5aorFHk9",
        "outputId": "98a437e2-b141-499b-f12b-b5a4e2c80cbe"
      },
      "execution_count": 31,
      "outputs": [
        {
          "output_type": "stream",
          "name": "stderr",
          "text": [
            "<ipython-input-31-90620d87dfe8>:3: TqdmDeprecationWarning: This function will be removed in tqdm==5.0.0\n",
            "Please use `tqdm.notebook.tqdm` instead of `tqdm.tqdm_notebook`\n",
            "  for i in tqdm_notebook(range(len(texts))):           # tqdm_notebook создает шкалу прогресса :)\n"
          ]
        },
        {
          "output_type": "display_data",
          "data": {
            "text/plain": [
              "  0%|          | 0/850 [00:00<?, ?it/s]"
            ],
            "application/vnd.jupyter.widget-view+json": {
              "version_major": 2,
              "version_minor": 0,
              "model_id": "81d69ddf8942427a9610dccdd3ba91cc"
            }
          },
          "metadata": {}
        }
      ]
    },
    {
      "cell_type": "code",
      "source": [
        "# посмотрим на пример\n",
        "i = 1\n",
        "print(\"Label: \",   y[i])\n",
        "print(\"Text: \\n\",  texts[i])"
      ],
      "metadata": {
        "colab": {
          "base_uri": "https://localhost:8080/"
        },
        "id": "NnhsEBkXGa7I",
        "outputId": "a4f97ac7-da97-4ac7-bb42-198ea87f8fbe"
      },
      "execution_count": 32,
      "outputs": [
        {
          "output_type": "stream",
          "name": "stdout",
          "text": [
            "Label:  9.7\n",
            "Text: \n",
            " премьера комедийный мюзикл продюсер mamma mia призрак опера chicago шахматы шоу пойти бояться ты директор завод хотеть подарить жена настоящий мюзикл остаться сторона требовать бедный постановщик изменение один нелепый другой день премьера градус безумие достигать предел режиссёр нужно добавить шоу новый номер ход переписать музыка слово попутно разругаться - этот изменение весь актёр остроумный пародия мировой поп - хит каскад смешной ситуация мастер - класс режим реальный время спасти шоу час показ один чрезвычайно весёлый спектакль\n"
          ]
        }
      ]
    },
    {
      "cell_type": "markdown",
      "source": [
        "## Моделирование & Векторные представления"
      ],
      "metadata": {
        "id": "mS1Kb2NUICZV"
      }
    },
    {
      "cell_type": "code",
      "source": [
        "#train test_split\n",
        "from sklearn.model_selection import train_test_split\n",
        "train_texts, test_texts, train_y, test_y = train_test_split(texts, y, test_size=0.2, random_state=42)\n"
      ],
      "metadata": {
        "id": "48MoWmnOKy_r"
      },
      "execution_count": 33,
      "outputs": []
    },
    {
      "cell_type": "code",
      "source": [
        "#вычисляем tf-idf\n",
        "from sklearn.feature_extraction.text import TfidfVectorizer\n",
        "# Fit TF-IDF on train texts\n",
        "vectorizer = TfidfVectorizer(ngram_range=(1, 2), max_features = 1000, norm = None, min_df = 3, max_df = 700)\n",
        "# Обучаем TF-IDF на train, а затем применяем к train и test\n",
        "train_X = vectorizer.fit_transform(train_texts)\n",
        "test_X  = vectorizer.transform(test_texts)\n",
        "# Топ-10 слов\n",
        "vectorizer.get_feature_names_out()[:100]"
      ],
      "metadata": {
        "colab": {
          "base_uri": "https://localhost:8080/"
        },
        "id": "ngQW-ocnLCws",
        "outputId": "1ec622f2-8ade-4bd2-9763-a02642a9e0d9"
      },
      "execution_count": 39,
      "outputs": [
        {
          "output_type": "execute_result",
          "data": {
            "text/plain": [
              "array(['абсолютно', 'автор', 'авторский', 'актриса', 'актуальный',\n",
              "       'актёр', 'актёрский', 'актёрский состав', 'александр', 'алексей',\n",
              "       'американский', 'анастасия', 'анатолий', 'английский', 'андрей',\n",
              "       'анна', 'анна каренин', 'ансамбль', 'антон', 'антракт',\n",
              "       'антракт ссылка', 'арт', 'артист', 'артист россия', 'артистка',\n",
              "       'артистка россия', 'артём', 'атмосфера', 'бабушка', 'бедный',\n",
              "       'безумный', 'бесконечный', 'билет', 'благодаря', 'близкий',\n",
              "       'блистательный', 'бог', 'богатый', 'богомолов', 'боль', 'больший',\n",
              "       'большой', 'борис', 'борьба', 'бояться', 'брак', 'брат', 'бросить',\n",
              "       'будущее', 'булгаков', 'буфет', 'буфет начало', 'бывший', 'быт',\n",
              "       'бытовой', 'быть', 'важно', 'важный', 'валентина', 'валерий',\n",
              "       'вампилов', 'василий', 'ваш', 'ведущий', 'век', 'великий',\n",
              "       'великолепный', 'вера', 'верить', 'вернуться', 'верный', 'версия',\n",
              "       'вести', 'весь', 'весёлый', 'вечер', 'вечный', 'вещь',\n",
              "       'взаимоотношение', 'взгляд', 'взрослый', 'вид', 'видеть', 'виктор',\n",
              "       'виктория', 'виктюк', 'виноградов', 'вишнёвый', 'вишнёвый сад',\n",
              "       'владимир', 'власть', 'влюбить', 'влюбляться', 'вместе',\n",
              "       'внимание', 'вновь', 'внутренний', 'возлюбить', 'возможно',\n",
              "       'возможность'], dtype=object)"
            ]
          },
          "metadata": {},
          "execution_count": 39
        }
      ]
    },
    {
      "cell_type": "code",
      "source": [
        "from sklearn.linear_model import Ridge\n",
        "from sklearn.metrics import mean_squared_error, r2_score\n",
        "\n",
        "alpha = 0.5  # параметр регуляризации\n",
        "ridge_reg = Ridge(alpha=alpha)\n",
        "ridge_reg.fit(train_X, train_y)\n",
        "\n",
        "y_train_pred = ridge_reg.predict(train_X)\n",
        "y_test_pred = ridge_reg.predict(test_X)\n",
        "\n",
        "# Метрики для оценки качества модели\n",
        "train_mse = mean_squared_error(train_y, y_train_pred)\n",
        "test_mse = mean_squared_error(test_y, y_test_pred)\n",
        "\n",
        "train_r2 = r2_score(train_y, y_train_pred)\n",
        "test_r2 = r2_score(test_y, y_test_pred)\n",
        "\n",
        "print(f\"Train MSE: {train_mse:.4f}\")\n",
        "print(f\"Test MSE: {test_mse:.4f}\")\n",
        "print(f\"Train R^2: {train_r2:.4f}\")\n",
        "print(f\"Test R^2: {test_r2:.4f}\")"
      ],
      "metadata": {
        "colab": {
          "base_uri": "https://localhost:8080/"
        },
        "id": "cWLwO90xMSFG",
        "outputId": "f6b9d83b-b439-4d44-96d2-fb8d6dc75050"
      },
      "execution_count": 40,
      "outputs": [
        {
          "output_type": "stream",
          "name": "stdout",
          "text": [
            "Train MSE: 0.0000\n",
            "Test MSE: 2.2627\n",
            "Train R^2: 1.0000\n",
            "Test R^2: -3.3894\n"
          ]
        }
      ]
    },
    {
      "cell_type": "markdown",
      "source": [
        "## Визуализируем коэффициенты регрессии для первых 50 слов"
      ],
      "metadata": {
        "id": "1fIC3S5iP1hW"
      }
    },
    {
      "cell_type": "code",
      "source": [
        "import matplotlib.pyplot as plt\n",
        "plt.figure(figsize=(10, 6))\n",
        "n=50\n",
        "plt.bar(range(n), ridge_reg.coef_[0:n])\n",
        "plt.xticks(range(n), vectorizer.get_feature_names_out()[0:n], rotation=90)\n",
        "plt.xlabel('Features')\n",
        "plt.ylabel('Coefficient Value')\n",
        "plt.title('Coefficients of Ridge Regression Model')\n",
        "plt.show()"
      ],
      "metadata": {
        "colab": {
          "base_uri": "https://localhost:8080/",
          "height": 680
        },
        "id": "_sGAvnFfPTTz",
        "outputId": "36e3f184-cd5b-4113-9809-dbe6aa83ed0d"
      },
      "execution_count": 41,
      "outputs": [
        {
          "output_type": "display_data",
          "data": {
            "text/plain": [
              "<Figure size 1000x600 with 1 Axes>"
            ],
            "image/png": "[encoded data removed]"
          },
          "metadata": {}
        }
      ]
    },
    {
      "cell_type": "markdown",
      "source": [
        "Вывод: Наиболее сильно на рейтинг спектакля влияет наличие слов: большой, боль, бог"
      ],
      "metadata": {
        "id": "jf-1a7JRQtjp"
      }
    },
    {
      "cell_type": "code",
      "source": [],
      "metadata": {
        "id": "JTiAIKCsR4Fx"
      },
      "execution_count": null,
      "outputs": []
    }
  ]
}